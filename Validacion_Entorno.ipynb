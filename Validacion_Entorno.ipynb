{
 "cells": [
  {
   "cell_type": "code",
   "execution_count": 1,
   "metadata": {},
   "outputs": [
    {
     "name": "stdout",
     "output_type": "stream",
     "text": [
      "Ubicacion de Python en: /home/dlegorreta/anaconda3\n",
      "\n",
      "Versión de Python:\n",
      "3.6.0 |Anaconda custom (64-bit)| (default, Dec 23 2016, 12:22:00) \n",
      "[GCC 4.4.7 20120313 (Red Hat 4.4.7-1)]\n",
      "\n",
      "Paquetes y versión que se tienen Instaladas:\n",
      "[ OK ] numpy version 1.12.1\n",
      "[ OK ] scipy version 0.19.0\n",
      "[ OK ] matplotlib version 2.0.2\n",
      "[ OK ] IPython version 6.0.0\n",
      "[ OK ] sklearn version 0.18.1\n",
      "[ OK ] pandas version 0.20.1\n",
      "[ OK ] seaborn version 0.7.1\n",
      "[ OK ] statsmodels version 0.8.0\n",
      "[ OK ] yaml version 3.12\n",
      "[ OK ] PIL version 1.1.7\n",
      "\n"
     ]
    }
   ],
   "source": [
    "%run entorno.py"
   ]
  },
  {
   "cell_type": "code",
   "execution_count": 2,
   "metadata": {},
   "outputs": [
    {
     "name": "stdout",
     "output_type": "stream",
     "text": [
      ">>Instalacion de Paquetes Faltantes\n",
      "\n",
      "numpy se encuentra instalado\n",
      "scipy se encuentra instalado\n",
      "matplotlib se encuentra instalado\n",
      "IPython se encuentra instalado\n",
      "sklearn se encuentra instalado\n",
      "pandas se encuentra instalado\n",
      "seaborn se encuentra instalado\n",
      "statsmodels se encuentra instalado\n",
      "yaml se encuentra instalado\n",
      "PIL se encuentra instalado\n",
      "....................................................................................\n",
      "Si algun paquete no fue instalado revisa el mensaje de error\n",
      "posiblemente sea necesario instalar directamente con 'pip' o revisar si el nombre es correcto.\n",
      "Proceso Concluido!\n"
     ]
    }
   ],
   "source": [
    "%run instalaciones_faltantes.py"
   ]
  }
 ],
 "metadata": {
  "kernelspec": {
   "display_name": "Python 3",
   "language": "python",
   "name": "python3"
  },
  "language_info": {
   "codemirror_mode": {
    "name": "ipython",
    "version": 3
   },
   "file_extension": ".py",
   "mimetype": "text/x-python",
   "name": "python",
   "nbconvert_exporter": "python",
   "pygments_lexer": "ipython3",
   "version": "3.6.0"
  }
 },
 "nbformat": 4,
 "nbformat_minor": 2
}
