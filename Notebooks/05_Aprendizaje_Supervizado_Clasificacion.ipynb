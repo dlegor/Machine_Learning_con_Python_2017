{
 "cells": [
  {
   "cell_type": "markdown",
   "metadata": {},
   "source": [
    "# Aprendizaje Supervizado - Clasificación\n",
    "\n",
    "\n",
    "En la sección se cubre lo siguiente:\n",
    "\n",
    "* Clasificación\n",
    "* Algo de Teoría\n",
    "* Otros clasificadores\n",
    "* Ejercicios"
   ]
  },
  {
   "cell_type": "markdown",
   "metadata": {},
   "source": [
    "## Clasificador\n",
    "\n",
    "Como previamente se [mencionó](01_Aprendizaje_Automático.ipynb), cuando en la relación $$ Y=f(X)+\\epsilon$$ la $Y$ es una variable categórica se tienen un problema de clasificación. La variable $X$ en esta relación representa la matriz de datos y $f()$ representa al algoritmo o modelo que se use para estimar $Y$.\n",
    "\n",
    "### Nota:\n",
    "\n",
    "Para el ejemplo se usan los datos sobre [incumplimiento de pago](https://archive.ics.uci.edu/ml/datasets/default+of+credit+card+clients), para mayores detalles al respecto se puede leer el artículo:\n",
    "\n",
    "* [Yeh, I. C., & Lien, C. H. (2009).The comparisons of data mining techniques for the predictive accuracy of probability of default of credit card clients.](https://pdfs.semanticscholar.org/1cac/ac4f0ea9fdff3cd88c151c94115a9fddcf33.pdf)\n",
    "\n",
    "\n",
    "### Sobre el ejemplo\n",
    "\n",
    "Se explican brevemente los detalles y se agregan comentarios al código para seguir los pasos realizados."
   ]
  },
  {
   "cell_type": "code",
   "execution_count": 1,
   "metadata": {
    "collapsed": true
   },
   "outputs": [],
   "source": [
    "#Se cargan las bibliotecas y se configura el entorno para generar gráficos\n",
    "\n",
    "%matplotlib inline\n",
    "\n",
    "import pandas as pd\n",
    "import numpy as np\n",
    "import matplotlib.pyplot as plt\n",
    "import seaborn as sns\n",
    "\n",
    "#configuracion Matplotlib\n",
    "plt.rcParams[\"figure.figsize\"] = (12, 5)\n",
    "plt.rcParams['figure.titlesize'] = 'large'\n",
    "plt.rcParams['font.size'] = 12\n",
    "plt.rcParams['axes.titlesize']=15\n"
   ]
  },
  {
   "cell_type": "markdown",
   "metadata": {},
   "source": [
    "Los datos se encuentran ubicados dentro del folder *DataSets*, tambiém se pueden descargar directamente del [repositorio.](https://archive.ics.uci.edu/ml/datasets.html)"
   ]
  },
  {
   "cell_type": "code",
   "execution_count": 2,
   "metadata": {
    "collapsed": true
   },
   "outputs": [],
   "source": [
    "#Se cargan los datos\n",
    "\n",
    "Datos=pd.read_excel(\"DataSets/default_of_credit_and_clients.xls\")"
   ]
  },
  {
   "cell_type": "markdown",
   "metadata": {},
   "source": [
    "Se hace una pequeña revisión de los datos. Se visualizan los primeros 5 registros, se revisa el tamaño de la muestra y  el tipo  variables y se ve la proporción de registros para cada una de las categorías de $Y$. "
   ]
  },
  {
   "cell_type": "code",
   "execution_count": 3,
   "metadata": {},
   "outputs": [
    {
     "data": {
      "text/html": [
       "<div>\n",
       "<style>\n",
       "    .dataframe thead tr:only-child th {\n",
       "        text-align: right;\n",
       "    }\n",
       "\n",
       "    .dataframe thead th {\n",
       "        text-align: left;\n",
       "    }\n",
       "\n",
       "    .dataframe tbody tr th {\n",
       "        vertical-align: top;\n",
       "    }\n",
       "</style>\n",
       "<table border=\"1\" class=\"dataframe\">\n",
       "  <thead>\n",
       "    <tr style=\"text-align: right;\">\n",
       "      <th></th>\n",
       "      <th>ID</th>\n",
       "      <th>LIMIT_BAL</th>\n",
       "      <th>SEX</th>\n",
       "      <th>EDUCATION</th>\n",
       "      <th>MARRIAGE</th>\n",
       "      <th>AGE</th>\n",
       "      <th>PAY_0</th>\n",
       "      <th>PAY_2</th>\n",
       "      <th>PAY_3</th>\n",
       "      <th>PAY_4</th>\n",
       "      <th>...</th>\n",
       "      <th>BILL_AMT4</th>\n",
       "      <th>BILL_AMT5</th>\n",
       "      <th>BILL_AMT6</th>\n",
       "      <th>PAY_AMT1</th>\n",
       "      <th>PAY_AMT2</th>\n",
       "      <th>PAY_AMT3</th>\n",
       "      <th>PAY_AMT4</th>\n",
       "      <th>PAY_AMT5</th>\n",
       "      <th>PAY_AMT6</th>\n",
       "      <th>default payment next month</th>\n",
       "    </tr>\n",
       "  </thead>\n",
       "  <tbody>\n",
       "    <tr>\n",
       "      <th>0</th>\n",
       "      <td>1</td>\n",
       "      <td>20000</td>\n",
       "      <td>2</td>\n",
       "      <td>2</td>\n",
       "      <td>1</td>\n",
       "      <td>24</td>\n",
       "      <td>2</td>\n",
       "      <td>2</td>\n",
       "      <td>-1</td>\n",
       "      <td>-1</td>\n",
       "      <td>...</td>\n",
       "      <td>0</td>\n",
       "      <td>0</td>\n",
       "      <td>0</td>\n",
       "      <td>0</td>\n",
       "      <td>689</td>\n",
       "      <td>0</td>\n",
       "      <td>0</td>\n",
       "      <td>0</td>\n",
       "      <td>0</td>\n",
       "      <td>1</td>\n",
       "    </tr>\n",
       "    <tr>\n",
       "      <th>1</th>\n",
       "      <td>2</td>\n",
       "      <td>120000</td>\n",
       "      <td>2</td>\n",
       "      <td>2</td>\n",
       "      <td>2</td>\n",
       "      <td>26</td>\n",
       "      <td>-1</td>\n",
       "      <td>2</td>\n",
       "      <td>0</td>\n",
       "      <td>0</td>\n",
       "      <td>...</td>\n",
       "      <td>3272</td>\n",
       "      <td>3455</td>\n",
       "      <td>3261</td>\n",
       "      <td>0</td>\n",
       "      <td>1000</td>\n",
       "      <td>1000</td>\n",
       "      <td>1000</td>\n",
       "      <td>0</td>\n",
       "      <td>2000</td>\n",
       "      <td>1</td>\n",
       "    </tr>\n",
       "    <tr>\n",
       "      <th>2</th>\n",
       "      <td>3</td>\n",
       "      <td>90000</td>\n",
       "      <td>2</td>\n",
       "      <td>2</td>\n",
       "      <td>2</td>\n",
       "      <td>34</td>\n",
       "      <td>0</td>\n",
       "      <td>0</td>\n",
       "      <td>0</td>\n",
       "      <td>0</td>\n",
       "      <td>...</td>\n",
       "      <td>14331</td>\n",
       "      <td>14948</td>\n",
       "      <td>15549</td>\n",
       "      <td>1518</td>\n",
       "      <td>1500</td>\n",
       "      <td>1000</td>\n",
       "      <td>1000</td>\n",
       "      <td>1000</td>\n",
       "      <td>5000</td>\n",
       "      <td>0</td>\n",
       "    </tr>\n",
       "    <tr>\n",
       "      <th>3</th>\n",
       "      <td>4</td>\n",
       "      <td>50000</td>\n",
       "      <td>2</td>\n",
       "      <td>2</td>\n",
       "      <td>1</td>\n",
       "      <td>37</td>\n",
       "      <td>0</td>\n",
       "      <td>0</td>\n",
       "      <td>0</td>\n",
       "      <td>0</td>\n",
       "      <td>...</td>\n",
       "      <td>28314</td>\n",
       "      <td>28959</td>\n",
       "      <td>29547</td>\n",
       "      <td>2000</td>\n",
       "      <td>2019</td>\n",
       "      <td>1200</td>\n",
       "      <td>1100</td>\n",
       "      <td>1069</td>\n",
       "      <td>1000</td>\n",
       "      <td>0</td>\n",
       "    </tr>\n",
       "    <tr>\n",
       "      <th>4</th>\n",
       "      <td>5</td>\n",
       "      <td>50000</td>\n",
       "      <td>1</td>\n",
       "      <td>2</td>\n",
       "      <td>1</td>\n",
       "      <td>57</td>\n",
       "      <td>-1</td>\n",
       "      <td>0</td>\n",
       "      <td>-1</td>\n",
       "      <td>0</td>\n",
       "      <td>...</td>\n",
       "      <td>20940</td>\n",
       "      <td>19146</td>\n",
       "      <td>19131</td>\n",
       "      <td>2000</td>\n",
       "      <td>36681</td>\n",
       "      <td>10000</td>\n",
       "      <td>9000</td>\n",
       "      <td>689</td>\n",
       "      <td>679</td>\n",
       "      <td>0</td>\n",
       "    </tr>\n",
       "  </tbody>\n",
       "</table>\n",
       "<p>5 rows × 25 columns</p>\n",
       "</div>"
      ],
      "text/plain": [
       "   ID  LIMIT_BAL  SEX  EDUCATION  MARRIAGE  AGE  PAY_0  PAY_2  PAY_3  PAY_4  \\\n",
       "0   1      20000    2          2         1   24      2      2     -1     -1   \n",
       "1   2     120000    2          2         2   26     -1      2      0      0   \n",
       "2   3      90000    2          2         2   34      0      0      0      0   \n",
       "3   4      50000    2          2         1   37      0      0      0      0   \n",
       "4   5      50000    1          2         1   57     -1      0     -1      0   \n",
       "\n",
       "              ...              BILL_AMT4  BILL_AMT5  BILL_AMT6  PAY_AMT1  \\\n",
       "0             ...                      0          0          0         0   \n",
       "1             ...                   3272       3455       3261         0   \n",
       "2             ...                  14331      14948      15549      1518   \n",
       "3             ...                  28314      28959      29547      2000   \n",
       "4             ...                  20940      19146      19131      2000   \n",
       "\n",
       "   PAY_AMT2  PAY_AMT3  PAY_AMT4  PAY_AMT5  PAY_AMT6  \\\n",
       "0       689         0         0         0         0   \n",
       "1      1000      1000      1000         0      2000   \n",
       "2      1500      1000      1000      1000      5000   \n",
       "3      2019      1200      1100      1069      1000   \n",
       "4     36681     10000      9000       689       679   \n",
       "\n",
       "   default payment next month  \n",
       "0                           1  \n",
       "1                           1  \n",
       "2                           0  \n",
       "3                           0  \n",
       "4                           0  \n",
       "\n",
       "[5 rows x 25 columns]"
      ]
     },
     "execution_count": 3,
     "metadata": {},
     "output_type": "execute_result"
    }
   ],
   "source": [
    "#Se visualizan los primeros 5 registros\n",
    "Datos.head()"
   ]
  },
  {
   "cell_type": "code",
   "execution_count": 9,
   "metadata": {},
   "outputs": [
    {
     "data": {
      "text/plain": [
       "(30000, 25)"
      ]
     },
     "execution_count": 9,
     "metadata": {},
     "output_type": "execute_result"
    }
   ],
   "source": [
    "#El tamaño de la muestra\n",
    "Datos.shape"
   ]
  },
  {
   "cell_type": "code",
   "execution_count": 10,
   "metadata": {},
   "outputs": [
    {
     "name": "stdout",
     "output_type": "stream",
     "text": [
      "<class 'pandas.core.frame.DataFrame'>\n",
      "RangeIndex: 30000 entries, 0 to 29999\n",
      "Data columns (total 25 columns):\n",
      "ID                            30000 non-null int64\n",
      "LIMIT_BAL                     30000 non-null int64\n",
      "SEX                           30000 non-null int64\n",
      "EDUCATION                     30000 non-null int64\n",
      "MARRIAGE                      30000 non-null int64\n",
      "AGE                           30000 non-null int64\n",
      "PAY_0                         30000 non-null int64\n",
      "PAY_2                         30000 non-null int64\n",
      "PAY_3                         30000 non-null int64\n",
      "PAY_4                         30000 non-null int64\n",
      "PAY_5                         30000 non-null int64\n",
      "PAY_6                         30000 non-null int64\n",
      "BILL_AMT1                     30000 non-null int64\n",
      "BILL_AMT2                     30000 non-null int64\n",
      "BILL_AMT3                     30000 non-null int64\n",
      "BILL_AMT4                     30000 non-null int64\n",
      "BILL_AMT5                     30000 non-null int64\n",
      "BILL_AMT6                     30000 non-null int64\n",
      "PAY_AMT1                      30000 non-null int64\n",
      "PAY_AMT2                      30000 non-null int64\n",
      "PAY_AMT3                      30000 non-null int64\n",
      "PAY_AMT4                      30000 non-null int64\n",
      "PAY_AMT5                      30000 non-null int64\n",
      "PAY_AMT6                      30000 non-null int64\n",
      "default payment next month    30000 non-null int64\n",
      "dtypes: int64(25)\n",
      "memory usage: 5.7 MB\n"
     ]
    }
   ],
   "source": [
    "#El tipo de variables\n",
    "Datos.info()"
   ]
  },
  {
   "cell_type": "code",
   "execution_count": 7,
   "metadata": {},
   "outputs": [
    {
     "data": {
      "text/plain": [
       "0    0.7788\n",
       "1    0.2212\n",
       "Name: default payment next month, dtype: float64"
      ]
     },
     "execution_count": 7,
     "metadata": {},
     "output_type": "execute_result"
    }
   ],
   "source": [
    "#Balance de la  variable categorica a predecir\n",
    "\n",
    "Datos.iloc[:,24].value_counts().div(30000)"
   ]
  },
  {
   "cell_type": "code",
   "execution_count": 4,
   "metadata": {},
   "outputs": [
    {
     "data": {
      "text/plain": [
       "<matplotlib.text.Text at 0x7ff08f2fd668>"
      ]
     },
     "execution_count": 4,
     "metadata": {},
     "output_type": "execute_result"
    },
    {
     "data": {
      "image/png": "[encoded data removed]",
      "text/plain": [
       "<matplotlib.figure.Figure at 0x7ff08f2fd588>"
      ]
     },
     "metadata": {},
     "output_type": "display_data"
    }
   ],
   "source": [
    "#Se genera un gráfico para visualizar el porcentaje de cada categoría de la variable a predecir\n",
    "Datos.iloc[:,24].value_counts().div(30000).plot(kind='barh')\n",
    "plt.title(\"Porcentaje de las Categorias\")\n",
    "plt.ylabel(\"Categorias\")\n",
    "plt.xlabel(\"Porcentaje\")"
   ]
  },
  {
   "cell_type": "markdown",
   "metadata": {},
   "source": [
    "Se observa que de las 25 variables, 23 son usadas para predecir la variable de nombre *default payment next month*. El tamaño de la muestra es de 30,000 registros.\n",
    "\n",
    "En la variable respuesta( o dependiente) o la variable $Y$, se denota con \"1=Si realiza el pago\" y \"0= No realiza el pago\". Se tiene un 22.12% se casos que realizan el pago(Y=1)."
   ]
  },
  {
   "cell_type": "markdown",
   "metadata": {},
   "source": [
    "Se separa el conjunto de variables de la variable repuesta, para dividir los datos entre el conjunto de entrenamiento y prueba,se  considera la muestra estratificada para tratar de conservar los porcentajes casos 0/1.\n",
    "\n",
    "Visualizamos el comportamiento del sexo y la edad entre la gente que paga o no. También exploramos la relación entre la educación y la edad."
   ]
  },
  {
   "cell_type": "code",
   "execution_count": 8,
   "metadata": {},
   "outputs": [
    {
     "data": {
      "text/plain": [
       "<seaborn.axisgrid.FacetGrid at 0x7ff08f45bcc0>"
      ]
     },
     "execution_count": 8,
     "metadata": {},
     "output_type": "execute_result"
    },
    {
     "data": {
      "image/png": "[encoded data removed]",
      "text/plain": [
       "<matplotlib.figure.Figure at 0x7ff091310b38>"
      ]
     },
     "metadata": {},
     "output_type": "display_data"
    }
   ],
   "source": [
    "#construimos un subconjunto de variables para explorar la relació\n",
    "Datos_1=Datos.iloc[:,[2,3,4,5,24]].copy()\n",
    "#Se nombran las columnas del DataFrame\n",
    "Datos_1.columns=['SEX','EDUCATION','MARRIAGE','AGE','Y']\n",
    "#Se cambia la variable dependiente por una categoría con texto\n",
    "Datos_1.loc[:,'Y']=Datos_1.Y.apply(lambda x: \"Pagado\" if(x==1)  else \"No_Pagado\")\n",
    "\n",
    "sns.factorplot(x=\"AGE\", y=\"Y\", hue=\"Y\",col=\"SEX\", data=Datos_1, kind=\"box\")"
   ]
  },
  {
   "cell_type": "code",
   "execution_count": 9,
   "metadata": {},
   "outputs": [
    {
     "data": {
      "text/plain": [
       "<seaborn.axisgrid.FacetGrid at 0x7ff090ef5940>"
      ]
     },
     "execution_count": 9,
     "metadata": {},
     "output_type": "execute_result"
    },
    {
     "data": {
      "image/png": "[encoded data removed]",
      "text/plain": [
       "<matplotlib.figure.Figure at 0x7ff09125fc50>"
      ]
     },
     "metadata": {},
     "output_type": "display_data"
    }
   ],
   "source": [
    "sns.factorplot(x=\"AGE\", y=\"Y\", hue=\"Y\",col=\"EDUCATION\", data=Datos_1, kind=\"box\")"
   ]
  },
  {
   "cell_type": "markdown",
   "metadata": {},
   "source": [
    "Vemos que el sexo resulta no del todo importante para diferenciar entre si una persona pagará o no, pero las categorías de educación si muestran diferentes comportamientos."
   ]
  },
  {
   "cell_type": "code",
   "execution_count": 8,
   "metadata": {
    "collapsed": true
   },
   "outputs": [],
   "source": [
    "#Creación de datos para el modelo de clasificación\n",
    "\n",
    "Datos_input=Datos.iloc[:,0:24].copy()\n",
    "Y_output=Datos.iloc[:,24].copy()"
   ]
  },
  {
   "cell_type": "code",
   "execution_count": 9,
   "metadata": {
    "collapsed": true
   },
   "outputs": [],
   "source": [
    "#Se divide la muestra entre el conjunto de entrenamiento y prueba\n",
    "from sklearn.model_selection import train_test_split\n",
    "\n",
    "X_train, X_test, y_train, y_test = train_test_split(Datos_input, Y_output,\n",
    "                                                    test_size=0.25,\n",
    "                                                    random_state=123,\n",
    "                                                    stratify=Y_output)"
   ]
  },
  {
   "cell_type": "code",
   "execution_count": 12,
   "metadata": {},
   "outputs": [
    {
     "data": {
      "text/plain": [
       "0    0.7788\n",
       "1    0.2212\n",
       "Name: default payment next month, dtype: float64"
      ]
     },
     "execution_count": 12,
     "metadata": {},
     "output_type": "execute_result"
    }
   ],
   "source": [
    "a=len(y_train)\n",
    "y_train.value_counts().div(a)"
   ]
  },
  {
   "cell_type": "code",
   "execution_count": 13,
   "metadata": {},
   "outputs": [
    {
     "data": {
      "text/html": [
       "<div>\n",
       "<style>\n",
       "    .dataframe thead tr:only-child th {\n",
       "        text-align: right;\n",
       "    }\n",
       "\n",
       "    .dataframe thead th {\n",
       "        text-align: left;\n",
       "    }\n",
       "\n",
       "    .dataframe tbody tr th {\n",
       "        vertical-align: top;\n",
       "    }\n",
       "</style>\n",
       "<table border=\"1\" class=\"dataframe\">\n",
       "  <thead>\n",
       "    <tr style=\"text-align: right;\">\n",
       "      <th></th>\n",
       "      <th>ID</th>\n",
       "      <th>LIMIT_BAL</th>\n",
       "      <th>SEX</th>\n",
       "      <th>EDUCATION</th>\n",
       "      <th>MARRIAGE</th>\n",
       "      <th>AGE</th>\n",
       "      <th>PAY_0</th>\n",
       "      <th>PAY_2</th>\n",
       "      <th>PAY_3</th>\n",
       "      <th>PAY_4</th>\n",
       "      <th>...</th>\n",
       "      <th>BILL_AMT3</th>\n",
       "      <th>BILL_AMT4</th>\n",
       "      <th>BILL_AMT5</th>\n",
       "      <th>BILL_AMT6</th>\n",
       "      <th>PAY_AMT1</th>\n",
       "      <th>PAY_AMT2</th>\n",
       "      <th>PAY_AMT3</th>\n",
       "      <th>PAY_AMT4</th>\n",
       "      <th>PAY_AMT5</th>\n",
       "      <th>PAY_AMT6</th>\n",
       "    </tr>\n",
       "  </thead>\n",
       "  <tbody>\n",
       "    <tr>\n",
       "      <th>4051</th>\n",
       "      <td>4052</td>\n",
       "      <td>200000</td>\n",
       "      <td>2</td>\n",
       "      <td>2</td>\n",
       "      <td>1</td>\n",
       "      <td>29</td>\n",
       "      <td>0</td>\n",
       "      <td>0</td>\n",
       "      <td>0</td>\n",
       "      <td>0</td>\n",
       "      <td>...</td>\n",
       "      <td>73928</td>\n",
       "      <td>72060</td>\n",
       "      <td>72393</td>\n",
       "      <td>72969</td>\n",
       "      <td>3304</td>\n",
       "      <td>3815</td>\n",
       "      <td>3004</td>\n",
       "      <td>3006</td>\n",
       "      <td>4012</td>\n",
       "      <td>3012</td>\n",
       "    </tr>\n",
       "    <tr>\n",
       "      <th>6106</th>\n",
       "      <td>6107</td>\n",
       "      <td>150000</td>\n",
       "      <td>1</td>\n",
       "      <td>3</td>\n",
       "      <td>1</td>\n",
       "      <td>62</td>\n",
       "      <td>1</td>\n",
       "      <td>-2</td>\n",
       "      <td>-2</td>\n",
       "      <td>-2</td>\n",
       "      <td>...</td>\n",
       "      <td>0</td>\n",
       "      <td>0</td>\n",
       "      <td>0</td>\n",
       "      <td>0</td>\n",
       "      <td>0</td>\n",
       "      <td>0</td>\n",
       "      <td>0</td>\n",
       "      <td>0</td>\n",
       "      <td>0</td>\n",
       "      <td>0</td>\n",
       "    </tr>\n",
       "    <tr>\n",
       "      <th>28889</th>\n",
       "      <td>28890</td>\n",
       "      <td>300000</td>\n",
       "      <td>2</td>\n",
       "      <td>4</td>\n",
       "      <td>2</td>\n",
       "      <td>45</td>\n",
       "      <td>1</td>\n",
       "      <td>-1</td>\n",
       "      <td>-1</td>\n",
       "      <td>-2</td>\n",
       "      <td>...</td>\n",
       "      <td>0</td>\n",
       "      <td>0</td>\n",
       "      <td>0</td>\n",
       "      <td>0</td>\n",
       "      <td>1669</td>\n",
       "      <td>0</td>\n",
       "      <td>0</td>\n",
       "      <td>0</td>\n",
       "      <td>0</td>\n",
       "      <td>289</td>\n",
       "    </tr>\n",
       "    <tr>\n",
       "      <th>12721</th>\n",
       "      <td>12722</td>\n",
       "      <td>90000</td>\n",
       "      <td>2</td>\n",
       "      <td>3</td>\n",
       "      <td>2</td>\n",
       "      <td>25</td>\n",
       "      <td>0</td>\n",
       "      <td>0</td>\n",
       "      <td>0</td>\n",
       "      <td>0</td>\n",
       "      <td>...</td>\n",
       "      <td>45868</td>\n",
       "      <td>47535</td>\n",
       "      <td>40920</td>\n",
       "      <td>38622</td>\n",
       "      <td>1861</td>\n",
       "      <td>2052</td>\n",
       "      <td>2719</td>\n",
       "      <td>0</td>\n",
       "      <td>1600</td>\n",
       "      <td>890</td>\n",
       "    </tr>\n",
       "    <tr>\n",
       "      <th>26257</th>\n",
       "      <td>26258</td>\n",
       "      <td>90000</td>\n",
       "      <td>2</td>\n",
       "      <td>1</td>\n",
       "      <td>2</td>\n",
       "      <td>33</td>\n",
       "      <td>0</td>\n",
       "      <td>0</td>\n",
       "      <td>0</td>\n",
       "      <td>0</td>\n",
       "      <td>...</td>\n",
       "      <td>59753</td>\n",
       "      <td>61755</td>\n",
       "      <td>63629</td>\n",
       "      <td>54423</td>\n",
       "      <td>2100</td>\n",
       "      <td>4000</td>\n",
       "      <td>3000</td>\n",
       "      <td>3000</td>\n",
       "      <td>2323</td>\n",
       "      <td>2000</td>\n",
       "    </tr>\n",
       "  </tbody>\n",
       "</table>\n",
       "<p>5 rows × 24 columns</p>\n",
       "</div>"
      ],
      "text/plain": [
       "          ID  LIMIT_BAL  SEX  EDUCATION  MARRIAGE  AGE  PAY_0  PAY_2  PAY_3  \\\n",
       "4051    4052     200000    2          2         1   29      0      0      0   \n",
       "6106    6107     150000    1          3         1   62      1     -2     -2   \n",
       "28889  28890     300000    2          4         2   45      1     -1     -1   \n",
       "12721  12722      90000    2          3         2   25      0      0      0   \n",
       "26257  26258      90000    2          1         2   33      0      0      0   \n",
       "\n",
       "       PAY_4    ...     BILL_AMT3  BILL_AMT4  BILL_AMT5  BILL_AMT6  PAY_AMT1  \\\n",
       "4051       0    ...         73928      72060      72393      72969      3304   \n",
       "6106      -2    ...             0          0          0          0         0   \n",
       "28889     -2    ...             0          0          0          0      1669   \n",
       "12721      0    ...         45868      47535      40920      38622      1861   \n",
       "26257      0    ...         59753      61755      63629      54423      2100   \n",
       "\n",
       "       PAY_AMT2  PAY_AMT3  PAY_AMT4  PAY_AMT5  PAY_AMT6  \n",
       "4051       3815      3004      3006      4012      3012  \n",
       "6106          0         0         0         0         0  \n",
       "28889         0         0         0         0       289  \n",
       "12721      2052      2719         0      1600       890  \n",
       "26257      4000      3000      3000      2323      2000  \n",
       "\n",
       "[5 rows x 24 columns]"
      ]
     },
     "execution_count": 13,
     "metadata": {},
     "output_type": "execute_result"
    }
   ],
   "source": [
    "#Visualización de la muestra de datos\n",
    "\n",
    "X_train.head()"
   ]
  },
  {
   "cell_type": "markdown",
   "metadata": {},
   "source": [
    "Se aplica un modelo de *Regresión Logística* y se mide la precisión del modelo. La *precisión* en scikit-learn se calcula mediante la función `accuracy_score()`."
   ]
  },
  {
   "cell_type": "code",
   "execution_count": 14,
   "metadata": {},
   "outputs": [
    {
     "name": "stdout",
     "output_type": "stream",
     "text": [
      "Regresion Logística\n",
      "La precisión del modelo fue 0.778667\n"
     ]
    }
   ],
   "source": [
    "from sklearn.linear_model import LogisticRegression\n",
    "from sklearn.metrics import accuracy_score\n",
    "\n",
    "Modelo_LR=LogisticRegression()\n",
    "Modelo_LR.fit(X_train.iloc[:,1:24],y_train)\n",
    "Pred_LR=Modelo_LR.predict(X_test.iloc[:,1:24])\n",
    "\n",
    "print(\"Regresion Logística\")\n",
    "print(\"La precisión del modelo fue %f\"%(accuracy_score(y_test,Pred_LR)))"
   ]
  },
  {
   "cell_type": "markdown",
   "metadata": {},
   "source": [
    "Se obtuvo una pecisión del **77.86%** (visto en porcentaje). El modelo se aplicó a los datos de prueba con categorías balanciadas (por la estratificación que se realizó).\n",
    "\n",
    "Otro modo de obtener el valor de la precisión del modelo de clasificación es:"
   ]
  },
  {
   "cell_type": "code",
   "execution_count": 15,
   "metadata": {},
   "outputs": [
    {
     "data": {
      "text/plain": [
       "0.77866666666666662"
      ]
     },
     "execution_count": 15,
     "metadata": {},
     "output_type": "execute_result"
    }
   ],
   "source": [
    "#Usando un método del modelo definido\n",
    "\n",
    "Modelo_LR.score(X_test.iloc[:,1:24],y_test)"
   ]
  },
  {
   "cell_type": "markdown",
   "metadata": {},
   "source": [
    "## Aspectos Teóricos de la clasificación"
   ]
  },
  {
   "cell_type": "markdown",
   "metadata": {},
   "source": [
    "Tenemos que  $Y \\in \\{1,0\\}$, por otro lado en nuestro ejemplo $X \\in \\mathbb{R}^{30000 \\times 23}$, de manera general problema puede verse como un conjunto de tuplas $$(X_1,Y_1),...,(X_n,Y_n)$$ donde $(X_j,Y_j) \\in \\mathbb{X} \\times \\mathbb{Y}$ las cuales son tomadas vistas como variables aleatorias independientes.\n",
    "\n",
    "Así púes, el objetivo de la clasificación binaria es construir una \"regla\" o función tal que $$h:\\mathbb{X} \\longrightarrow \\{0,1\\}$$\n",
    "\n",
    "Algunas de las consideraciones naturales sobre la función $h$, es que la variable $Y$ tienen una distribución de Bernoulli. Sin hacer algún supuesto sobre $X$, la relación entre $h$ y los datos queda planteado como $$Y |X \\approx Ber(h(X))$$, donde $h(X)=\\mathbb{P}(Y=1|X)=\\mathbb{E}[Y|X]$ y con $Ber$ indicamos que es una distribución de Bernoulli.\n"
   ]
  },
  {
   "cell_type": "markdown",
   "metadata": {},
   "source": [
    "Para el caso concreto de la regresión logística, resulta que la función $h()$ o clasificador,para este problema es dada como:$$h(X)=\\frac{1}{1+e^{-X}}$$\n",
    "\n",
    "\n",
    "Aunqué es muy breve la explicación teórica y quizás se vuelve muy confusa,pero poniendo la explicación en el ejemplo realizado se tienen lo siguiente. La muestra fue formada por $30000$ tuplas de 24 elementos $(x_1,x_2,...,x_23,y)$. Se propuso como función $h$ la relacionada con la regresión logística."
   ]
  },
  {
   "cell_type": "markdown",
   "metadata": {},
   "source": [
    "## Otros Clasificadores\n",
    "\n",
    "El modelo de *Regresión Logística* permitió tener un 77.86% de precisión. Tomamos otro modelo, se usará un Random Forest, el cual es una generalización de los Árboles de Decisiones.\n",
    "\n",
    "De momento se usa la función solo a manera de ejemplo como aplicar otra función de clasificación."
   ]
  },
  {
   "cell_type": "code",
   "execution_count": null,
   "metadata": {},
   "outputs": [],
   "source": [
    "from sklearn.ensemble import RandomForestClassifier\n",
    "\n",
    "Modelo_RF=RandomForestClassifier()\n",
    "Modelo_RF.fit(X_train.iloc[:,1:24],y_train)\n",
    "Pred_RF=Modelo_RF.predict(X_test.iloc[:,1:24])\n",
    "\n",
    "print(\"Random Forest\")\n",
    "print(\"La precisión del modelo fue %f\"%(accuracy_score(y_test,Pred_RF)))"
   ]
  },
  {
   "cell_type": "markdown",
   "metadata": {},
   "source": [
    "Observamos que resulta dar mejores resultados el modelo de Regresión Logística, con un **5%** de mejora en la precisión."
   ]
  },
  {
   "cell_type": "markdown",
   "metadata": {},
   "source": [
    "# Ejercicios\n",
    "\n",
    "Para los ejercicios se hace uso de la misma muestra de datos del ejemplo."
   ]
  },
  {
   "cell_type": "code",
   "execution_count": 1,
   "metadata": {},
   "outputs": [],
   "source": [
    "# 1.- Dividir la muestra de datos en un porcentaje de 80/20; train/test respectivamente."
   ]
  },
  {
   "cell_type": "code",
   "execution_count": null,
   "metadata": {},
   "outputs": [],
   "source": [
    "# 2.- Aplicar la Regresión Logística y el RandomForest,¿cuáles fueron los porcentajes de precisión?"
   ]
  },
  {
   "cell_type": "code",
   "execution_count": null,
   "metadata": {},
   "outputs": [],
   "source": [
    "# 3.- Ejecuta el siguiente código, sustituyendo los nombres de las Muestras de Entrenamiento y Prueba que se generaron en el ejercicio 1.\n",
    "\n",
    "from sklearn.svm import SVC\n",
    "\n",
    "Modelo_SVC=SVC()\n",
    "Modelo_SVC.fit(Data_train,Target_train)\n",
    "Pred_SVC=Modelo_SVC.predict(Data_test)\n",
    "\n",
    "print(\"Máquina de Soporte Vectorial\")\n",
    "print(\"La precisión del modelo fue %f\"%(accuracy_score(Target_test,Pred_SVC)))\n",
    "\n",
    "#¿Cuál de los 3 clasificadores tuvo la mejor precisión?"
   ]
  },
  {
   "cell_type": "code",
   "execution_count": 4,
   "metadata": {},
   "outputs": [],
   "source": [
    "# 4.- Escribe el código similar al ejercicio 3 pero para las siguientes 3 funciones de clasificación:\n",
    "\n",
    "from sklearn.tree import DecisionTreeClassifier\n",
    "from sklearn.neighbors import KNeighborsClassifier\n",
    "from sklearn.naive_bayes import GaussianNB\n"
   ]
  }
 ],
 "metadata": {
  "kernelspec": {
   "display_name": "Python 3",
   "language": "python",
   "name": "python3"
  },
  "language_info": {
   "codemirror_mode": {
    "name": "ipython",
    "version": 3
   },
   "file_extension": ".py",
   "mimetype": "text/x-python",
   "name": "python",
   "nbconvert_exporter": "python",
   "pygments_lexer": "ipython3",
   "version": "3.6.0"
  }
 },
 "nbformat": 4,
 "nbformat_minor": 2
}
