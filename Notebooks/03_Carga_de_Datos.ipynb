{
 "cells": [
  {
   "cell_type": "markdown",
   "metadata": {},
   "source": [
    "# Carga de Datos\n",
    "\n",
    "En esta sección se cubren los siguentes temas:\n",
    "\n",
    "* Representación de los datos para Aprendizaje Automático en Scikit-learn\n",
    "* Carga de datos de ejemplos en scikit-learn\n",
    "* Carga de datos desde otras fuentes\n",
    "* Otros datos en scikit-learn\n",
    "\n",
    "Se agregan ejemplo de la carga de datos y de pre-procesamiento, exploración y aplicción de algún algoritmo. Para esto se hace uso de Pandas, seaborn, matplotlib y scikit-learn."
   ]
  },
  {
   "cell_type": "markdown",
   "metadata": {},
   "source": [
    "#  Representación de datos para Aprendizaje Automático en scikit-learn\n",
    "\n",
    "En general los datos sobre los cuales se aplicará algún algoritmo se ve como una matriz de datos, donde cada fila de la matriz es considerada como una *muestra de datos* y cada columna como una *variable*.\n",
    "\n",
    "Ejemplo, un conjunto de datos con 1500 muestras y 10 variables se visualizará como una matriz de $\\mathbb{R}^{1500 \\times 10}$:\n",
    "\n",
    "\n",
    "$$\\mathbf{X} = \\begin{bmatrix}\n",
    "    x_{1}^{(1)} & x_{2}^{(1)} & x_{3}^{(1)} & \\dots  & x_{10}^{(1)} \\\\\n",
    "    x_{1}^{(2)} & x_{2}^{(2)} & x_{3}^{(2)} & \\dots  & x_{10}^{(2)} \\\\\n",
    "    \\vdots & \\vdots & \\vdots & \\ddots & \\vdots \\\\\n",
    "    x_{1}^{(1500)} & x_{2}^{(1500)} & x_{3}^{(1500)} & \\dots  & x_{10}^{(150)}\n",
    "\\end{bmatrix}.\n",
    "$$\n",
    "\n",
    "La matriz de datos se ve como una tabla (DataFrame en Pandas),un arreglo (array en Numpy) o una matriz de scipy, estos son los insumos para aplicar algún algoritmo en scikit-learn.\n",
    "\n",
    "En la mayoría de los casos un arreglo de Numpy o un DataFrame de Pandas basta,en casos particulares se hace uso de matrices dispersas de scipy."
   ]
  },
  {
   "cell_type": "markdown",
   "metadata": {},
   "source": [
    "## Carga de datos de ejemplos en scikit-learn\n",
    "\n",
    "En la biblioteca se cuenta con un conjuntos de datos de ejemplos. Todos los datos de prueba se cargan y formalmente se carga en Python como un [diccionario](https://docs.python.org/3/tutorial/datastructures.html#dictionaries). Las claves del diccionario en general son:\n",
    "\n",
    "* data\n",
    "* target\n",
    "* target_names\n",
    "* DESCR\n",
    "* feature_names\n",
    "\n",
    "La clave \"DESCR\", explica todos los detalles de la fuente de los datos y las referencias. También se cuenta con funciones para generar datos para pruebas de distintas familiar de algoritmos.\n",
    "\n",
    "Para hacer uso de los datos basta con cargar lo siguiente:\n",
    "\n",
    "```bash\n",
    "from sklearn.datasets \n",
    "```\n",
    "De allí se importa la muestra de datos elegida.\n",
    "\n",
    "### Ejemplo de la carga de datos."
   ]
  },
  {
   "cell_type": "markdown",
   "metadata": {},
   "source": [
    "Para el primer ejemplo se usarán datos de prueba, en cada parte del código se explica el paso realizado con una breve descripción. El segundo ejemplo muestra el modo de cargar datos desde un folder local y el tercero desde un repositorio externo.\n",
    "\n",
    "En los ejemplos se hace una breve exploración y revisión de los datos, se hace algún gráfico y se aplica algún método para clasificar o regresión. Lo importante de los ejemplos es la manipulación de los datos, no los modelos aplicados."
   ]
  },
  {
   "cell_type": "code",
   "execution_count": 8,
   "metadata": {
    "collapsed": true
   },
   "outputs": [],
   "source": [
    "#Carga de datos desde el conjunto de datos la biblioteca scikit-learn\n",
    "\n",
    "from sklearn.datasets import load_breast_cancer \n",
    "Data=load_breast_cancer()"
   ]
  },
  {
   "cell_type": "code",
   "execution_count": 9,
   "metadata": {},
   "outputs": [
    {
     "data": {
      "text/plain": [
       "dict_keys(['data', 'target', 'target_names', 'DESCR', 'feature_names'])"
      ]
     },
     "execution_count": 9,
     "metadata": {},
     "output_type": "execute_result"
    }
   ],
   "source": [
    "#Claves del diccionario de datos o la información que podemos ver de la muestra de datos\n",
    "Data.keys()"
   ]
  },
  {
   "cell_type": "code",
   "execution_count": 10,
   "metadata": {
    "scrolled": false
   },
   "outputs": [
    {
     "name": "stdout",
     "output_type": "stream",
     "text": [
      "Breast Cancer Wisconsin (Diagnostic) Database\n",
      "=============================================\n",
      "\n",
      "Notes\n",
      "-----\n",
      "Data Set Characteristics:\n",
      "    :Number of Instances: 569\n",
      "\n",
      "    :Number of Attributes: 30 numeric, predictive attributes and the class\n",
      "\n",
      "    :Attribute Information:\n",
      "        - radius (mean of distances from center to points on the perimeter)\n",
      "        - texture (standard deviation of gray-scale values)\n",
      "        - perimeter\n",
      "        - area\n",
      "        - smoothness (local variation in radius lengths)\n",
      "        - compactness (perimeter^2 / area - 1.0)\n",
      "        - concavity (severity of concave portions of the contour)\n",
      "        - concave points (number of concave portions of the contour)\n",
      "        - symmetry \n",
      "        - fractal dimension (\"coastline approximation\" - 1)\n",
      "\n",
      "        The mean, standard error, and \"worst\" or largest (mean of the three\n",
      "        largest values) of these features were computed for each image,\n",
      "        resulting in 30 features.  For instance, field 3 is Mean Radius, field\n",
      "        13 is Radius SE, field 23 is Worst Radius.\n",
      "\n",
      "        - class:\n",
      "                - WDBC-Malignant\n",
      "                - WDBC-Benign\n",
      "\n",
      "    :Summary Statistics:\n",
      "\n",
      "    ===================================== ====== ======\n",
      "                                           Min    Max\n",
      "    ===================================== ====== ======\n",
      "    radius (mean):                        6.981  28.11\n",
      "    texture (mean):                       9.71   39.28\n",
      "    perimeter (mean):                     43.79  188.5\n",
      "    area (mean):                          143.5  2501.0\n",
      "    smoothness (mean):                    0.053  0.163\n",
      "    compactness (mean):                   0.019  0.345\n",
      "    concavity (mean):                     0.0    0.427\n",
      "    concave points (mean):                0.0    0.201\n",
      "    symmetry (mean):                      0.106  0.304\n",
      "    fractal dimension (mean):             0.05   0.097\n",
      "    radius (standard error):              0.112  2.873\n",
      "    texture (standard error):             0.36   4.885\n",
      "    perimeter (standard error):           0.757  21.98\n",
      "    area (standard error):                6.802  542.2\n",
      "    smoothness (standard error):          0.002  0.031\n",
      "    compactness (standard error):         0.002  0.135\n",
      "    concavity (standard error):           0.0    0.396\n",
      "    concave points (standard error):      0.0    0.053\n",
      "    symmetry (standard error):            0.008  0.079\n",
      "    fractal dimension (standard error):   0.001  0.03\n",
      "    radius (worst):                       7.93   36.04\n",
      "    texture (worst):                      12.02  49.54\n",
      "    perimeter (worst):                    50.41  251.2\n",
      "    area (worst):                         185.2  4254.0\n",
      "    smoothness (worst):                   0.071  0.223\n",
      "    compactness (worst):                  0.027  1.058\n",
      "    concavity (worst):                    0.0    1.252\n",
      "    concave points (worst):               0.0    0.291\n",
      "    symmetry (worst):                     0.156  0.664\n",
      "    fractal dimension (worst):            0.055  0.208\n",
      "    ===================================== ====== ======\n",
      "\n",
      "    :Missing Attribute Values: None\n",
      "\n",
      "    :Class Distribution: 212 - Malignant, 357 - Benign\n",
      "\n",
      "    :Creator:  Dr. William H. Wolberg, W. Nick Street, Olvi L. Mangasarian\n",
      "\n",
      "    :Donor: Nick Street\n",
      "\n",
      "    :Date: November, 1995\n",
      "\n",
      "This is a copy of UCI ML Breast Cancer Wisconsin (Diagnostic) datasets.\n",
      "https://goo.gl/U2Uwz2\n",
      "\n",
      "Features are computed from a digitized image of a fine needle\n",
      "aspirate (FNA) of a breast mass.  They describe\n",
      "characteristics of the cell nuclei present in the image.\n",
      "\n",
      "Separating plane described above was obtained using\n",
      "Multisurface Method-Tree (MSM-T) [K. P. Bennett, \"Decision Tree\n",
      "Construction Via Linear Programming.\" Proceedings of the 4th\n",
      "Midwest Artificial Intelligence and Cognitive Science Society,\n",
      "pp. 97-101, 1992], a classification method which uses linear\n",
      "programming to construct a decision tree.  Relevant features\n",
      "were selected using an exhaustive search in the space of 1-4\n",
      "features and 1-3 separating planes.\n",
      "\n",
      "The actual linear program used to obtain the separating plane\n",
      "in the 3-dimensional space is that described in:\n",
      "[K. P. Bennett and O. L. Mangasarian: \"Robust Linear\n",
      "Programming Discrimination of Two Linearly Inseparable Sets\",\n",
      "Optimization Methods and Software 1, 1992, 23-34].\n",
      "\n",
      "This database is also available through the UW CS ftp server:\n",
      "\n",
      "ftp ftp.cs.wisc.edu\n",
      "cd math-prog/cpo-dataset/machine-learn/WDBC/\n",
      "\n",
      "References\n",
      "----------\n",
      "   - W.N. Street, W.H. Wolberg and O.L. Mangasarian. Nuclear feature extraction \n",
      "     for breast tumor diagnosis. IS&T/SPIE 1993 International Symposium on \n",
      "     Electronic Imaging: Science and Technology, volume 1905, pages 861-870,\n",
      "     San Jose, CA, 1993.\n",
      "   - O.L. Mangasarian, W.N. Street and W.H. Wolberg. Breast cancer diagnosis and \n",
      "     prognosis via linear programming. Operations Research, 43(4), pages 570-577, \n",
      "     July-August 1995.\n",
      "   - W.H. Wolberg, W.N. Street, and O.L. Mangasarian. Machine learning techniques\n",
      "     to diagnose breast cancer from fine-needle aspirates. Cancer Letters 77 (1994) \n",
      "     163-171.\n",
      "\n"
     ]
    }
   ],
   "source": [
    "#Se visualiza la descripción de la información\n",
    "\n",
    "print(Data.DESCR)"
   ]
  },
  {
   "cell_type": "code",
   "execution_count": 11,
   "metadata": {},
   "outputs": [
    {
     "data": {
      "text/html": [
       "<div>\n",
       "<style>\n",
       "    .dataframe thead tr:only-child th {\n",
       "        text-align: right;\n",
       "    }\n",
       "\n",
       "    .dataframe thead th {\n",
       "        text-align: left;\n",
       "    }\n",
       "\n",
       "    .dataframe tbody tr th {\n",
       "        vertical-align: top;\n",
       "    }\n",
       "</style>\n",
       "<table border=\"1\" class=\"dataframe\">\n",
       "  <thead>\n",
       "    <tr style=\"text-align: right;\">\n",
       "      <th></th>\n",
       "      <th>mean radius</th>\n",
       "      <th>mean texture</th>\n",
       "      <th>mean perimeter</th>\n",
       "      <th>mean area</th>\n",
       "      <th>mean smoothness</th>\n",
       "      <th>mean compactness</th>\n",
       "      <th>mean concavity</th>\n",
       "      <th>mean concave points</th>\n",
       "      <th>mean symmetry</th>\n",
       "      <th>mean fractal dimension</th>\n",
       "      <th>...</th>\n",
       "      <th>worst radius</th>\n",
       "      <th>worst texture</th>\n",
       "      <th>worst perimeter</th>\n",
       "      <th>worst area</th>\n",
       "      <th>worst smoothness</th>\n",
       "      <th>worst compactness</th>\n",
       "      <th>worst concavity</th>\n",
       "      <th>worst concave points</th>\n",
       "      <th>worst symmetry</th>\n",
       "      <th>worst fractal dimension</th>\n",
       "    </tr>\n",
       "  </thead>\n",
       "  <tbody>\n",
       "    <tr>\n",
       "      <th>0</th>\n",
       "      <td>17.99</td>\n",
       "      <td>10.38</td>\n",
       "      <td>122.80</td>\n",
       "      <td>1001.0</td>\n",
       "      <td>0.11840</td>\n",
       "      <td>0.27760</td>\n",
       "      <td>0.3001</td>\n",
       "      <td>0.14710</td>\n",
       "      <td>0.2419</td>\n",
       "      <td>0.07871</td>\n",
       "      <td>...</td>\n",
       "      <td>25.38</td>\n",
       "      <td>17.33</td>\n",
       "      <td>184.60</td>\n",
       "      <td>2019.0</td>\n",
       "      <td>0.1622</td>\n",
       "      <td>0.6656</td>\n",
       "      <td>0.7119</td>\n",
       "      <td>0.2654</td>\n",
       "      <td>0.4601</td>\n",
       "      <td>0.11890</td>\n",
       "    </tr>\n",
       "    <tr>\n",
       "      <th>1</th>\n",
       "      <td>20.57</td>\n",
       "      <td>17.77</td>\n",
       "      <td>132.90</td>\n",
       "      <td>1326.0</td>\n",
       "      <td>0.08474</td>\n",
       "      <td>0.07864</td>\n",
       "      <td>0.0869</td>\n",
       "      <td>0.07017</td>\n",
       "      <td>0.1812</td>\n",
       "      <td>0.05667</td>\n",
       "      <td>...</td>\n",
       "      <td>24.99</td>\n",
       "      <td>23.41</td>\n",
       "      <td>158.80</td>\n",
       "      <td>1956.0</td>\n",
       "      <td>0.1238</td>\n",
       "      <td>0.1866</td>\n",
       "      <td>0.2416</td>\n",
       "      <td>0.1860</td>\n",
       "      <td>0.2750</td>\n",
       "      <td>0.08902</td>\n",
       "    </tr>\n",
       "    <tr>\n",
       "      <th>2</th>\n",
       "      <td>19.69</td>\n",
       "      <td>21.25</td>\n",
       "      <td>130.00</td>\n",
       "      <td>1203.0</td>\n",
       "      <td>0.10960</td>\n",
       "      <td>0.15990</td>\n",
       "      <td>0.1974</td>\n",
       "      <td>0.12790</td>\n",
       "      <td>0.2069</td>\n",
       "      <td>0.05999</td>\n",
       "      <td>...</td>\n",
       "      <td>23.57</td>\n",
       "      <td>25.53</td>\n",
       "      <td>152.50</td>\n",
       "      <td>1709.0</td>\n",
       "      <td>0.1444</td>\n",
       "      <td>0.4245</td>\n",
       "      <td>0.4504</td>\n",
       "      <td>0.2430</td>\n",
       "      <td>0.3613</td>\n",
       "      <td>0.08758</td>\n",
       "    </tr>\n",
       "    <tr>\n",
       "      <th>3</th>\n",
       "      <td>11.42</td>\n",
       "      <td>20.38</td>\n",
       "      <td>77.58</td>\n",
       "      <td>386.1</td>\n",
       "      <td>0.14250</td>\n",
       "      <td>0.28390</td>\n",
       "      <td>0.2414</td>\n",
       "      <td>0.10520</td>\n",
       "      <td>0.2597</td>\n",
       "      <td>0.09744</td>\n",
       "      <td>...</td>\n",
       "      <td>14.91</td>\n",
       "      <td>26.50</td>\n",
       "      <td>98.87</td>\n",
       "      <td>567.7</td>\n",
       "      <td>0.2098</td>\n",
       "      <td>0.8663</td>\n",
       "      <td>0.6869</td>\n",
       "      <td>0.2575</td>\n",
       "      <td>0.6638</td>\n",
       "      <td>0.17300</td>\n",
       "    </tr>\n",
       "    <tr>\n",
       "      <th>4</th>\n",
       "      <td>20.29</td>\n",
       "      <td>14.34</td>\n",
       "      <td>135.10</td>\n",
       "      <td>1297.0</td>\n",
       "      <td>0.10030</td>\n",
       "      <td>0.13280</td>\n",
       "      <td>0.1980</td>\n",
       "      <td>0.10430</td>\n",
       "      <td>0.1809</td>\n",
       "      <td>0.05883</td>\n",
       "      <td>...</td>\n",
       "      <td>22.54</td>\n",
       "      <td>16.67</td>\n",
       "      <td>152.20</td>\n",
       "      <td>1575.0</td>\n",
       "      <td>0.1374</td>\n",
       "      <td>0.2050</td>\n",
       "      <td>0.4000</td>\n",
       "      <td>0.1625</td>\n",
       "      <td>0.2364</td>\n",
       "      <td>0.07678</td>\n",
       "    </tr>\n",
       "  </tbody>\n",
       "</table>\n",
       "<p>5 rows × 30 columns</p>\n",
       "</div>"
      ],
      "text/plain": [
       "   mean radius  mean texture  mean perimeter  mean area  mean smoothness  \\\n",
       "0        17.99         10.38          122.80     1001.0          0.11840   \n",
       "1        20.57         17.77          132.90     1326.0          0.08474   \n",
       "2        19.69         21.25          130.00     1203.0          0.10960   \n",
       "3        11.42         20.38           77.58      386.1          0.14250   \n",
       "4        20.29         14.34          135.10     1297.0          0.10030   \n",
       "\n",
       "   mean compactness  mean concavity  mean concave points  mean symmetry  \\\n",
       "0           0.27760          0.3001              0.14710         0.2419   \n",
       "1           0.07864          0.0869              0.07017         0.1812   \n",
       "2           0.15990          0.1974              0.12790         0.2069   \n",
       "3           0.28390          0.2414              0.10520         0.2597   \n",
       "4           0.13280          0.1980              0.10430         0.1809   \n",
       "\n",
       "   mean fractal dimension           ...             worst radius  \\\n",
       "0                 0.07871           ...                    25.38   \n",
       "1                 0.05667           ...                    24.99   \n",
       "2                 0.05999           ...                    23.57   \n",
       "3                 0.09744           ...                    14.91   \n",
       "4                 0.05883           ...                    22.54   \n",
       "\n",
       "   worst texture  worst perimeter  worst area  worst smoothness  \\\n",
       "0          17.33           184.60      2019.0            0.1622   \n",
       "1          23.41           158.80      1956.0            0.1238   \n",
       "2          25.53           152.50      1709.0            0.1444   \n",
       "3          26.50            98.87       567.7            0.2098   \n",
       "4          16.67           152.20      1575.0            0.1374   \n",
       "\n",
       "   worst compactness  worst concavity  worst concave points  worst symmetry  \\\n",
       "0             0.6656           0.7119                0.2654          0.4601   \n",
       "1             0.1866           0.2416                0.1860          0.2750   \n",
       "2             0.4245           0.4504                0.2430          0.3613   \n",
       "3             0.8663           0.6869                0.2575          0.6638   \n",
       "4             0.2050           0.4000                0.1625          0.2364   \n",
       "\n",
       "   worst fractal dimension  \n",
       "0                  0.11890  \n",
       "1                  0.08902  \n",
       "2                  0.08758  \n",
       "3                  0.17300  \n",
       "4                  0.07678  \n",
       "\n",
       "[5 rows x 30 columns]"
      ]
     },
     "execution_count": 11,
     "metadata": {},
     "output_type": "execute_result"
    }
   ],
   "source": [
    "#Se manipulan y exploran los datos con DataFrame de Pandas\n",
    "#Se cargan las bibliotecas para visualización gráfica\n",
    "\n",
    "%matplotlib inline\n",
    "import matplotlib.pyplot as plt\n",
    "import seaborn as sns\n",
    "plt.rcParams['figure.figsize']=(20,7)\n",
    "\n",
    "import pandas as pd\n",
    "import numpy as np\n",
    "\n",
    "#Se visualizan las primeras 5 líneas del arreglo de datos\n",
    "pd.DataFrame(Data.data,columns=Data.feature_names).head()"
   ]
  },
  {
   "cell_type": "markdown",
   "metadata": {},
   "source": [
    "Se genera un DataFrame para explorar los datos."
   ]
  },
  {
   "cell_type": "code",
   "execution_count": 12,
   "metadata": {},
   "outputs": [
    {
     "name": "stdout",
     "output_type": "stream",
     "text": [
      "<class 'pandas.core.frame.DataFrame'>\n",
      "RangeIndex: 569 entries, 0 to 568\n",
      "Data columns (total 30 columns):\n",
      "mean radius                569 non-null float64\n",
      "mean texture               569 non-null float64\n",
      "mean perimeter             569 non-null float64\n",
      "mean area                  569 non-null float64\n",
      "mean smoothness            569 non-null float64\n",
      "mean compactness           569 non-null float64\n",
      "mean concavity             569 non-null float64\n",
      "mean concave points        569 non-null float64\n",
      "mean symmetry              569 non-null float64\n",
      "mean fractal dimension     569 non-null float64\n",
      "radius error               569 non-null float64\n",
      "texture error              569 non-null float64\n",
      "perimeter error            569 non-null float64\n",
      "area error                 569 non-null float64\n",
      "smoothness error           569 non-null float64\n",
      "compactness error          569 non-null float64\n",
      "concavity error            569 non-null float64\n",
      "concave points error       569 non-null float64\n",
      "symmetry error             569 non-null float64\n",
      "fractal dimension error    569 non-null float64\n",
      "worst radius               569 non-null float64\n",
      "worst texture              569 non-null float64\n",
      "worst perimeter            569 non-null float64\n",
      "worst area                 569 non-null float64\n",
      "worst smoothness           569 non-null float64\n",
      "worst compactness          569 non-null float64\n",
      "worst concavity            569 non-null float64\n",
      "worst concave points       569 non-null float64\n",
      "worst symmetry             569 non-null float64\n",
      "worst fractal dimension    569 non-null float64\n",
      "dtypes: float64(30)\n",
      "memory usage: 133.4 KB\n"
     ]
    }
   ],
   "source": [
    "#Se genera el DataFrame con los datos\n",
    "Datos=pd.DataFrame(Data.data,columns=Data.feature_names)\n",
    "\n",
    "#Se explora la información relacionada con las variables\n",
    "Datos.info()"
   ]
  },
  {
   "cell_type": "code",
   "execution_count": 13,
   "metadata": {},
   "outputs": [
    {
     "data": {
      "text/plain": [
       "array([0, 1])"
      ]
     },
     "execution_count": 13,
     "metadata": {},
     "output_type": "execute_result"
    }
   ],
   "source": [
    "#Cargamos la variable dependiente\n",
    "Target=Data.target\n",
    "\n",
    "#Las categorías que se tienen son etiquetadas con 0/1\n",
    "np.unique(Target)"
   ]
  },
  {
   "cell_type": "markdown",
   "metadata": {},
   "source": [
    "Se observa que la muestar de datos cuenta con 30 variables y queremos hacer una clasificación. Con la muestra de datos observamos que son variables que pueden ser modeladas como variables continuas. \n",
    "\n",
    "Para este ejemplo, solo hacemos una breve exploración de la relación entre la [**correlación**](https://es.wikipedia.org/wiki/Correlaci%C3%B3n) de las variables, solo como ejemplo gráfico, de momento omitimos hacer cualqueir análisis detallado."
   ]
  },
  {
   "cell_type": "code",
   "execution_count": 14,
   "metadata": {},
   "outputs": [
    {
     "data": {
      "text/plain": [
       "<matplotlib.axes._subplots.AxesSubplot at 0x7f63ca42ccc0>"
      ]
     },
     "execution_count": 14,
     "metadata": {},
     "output_type": "execute_result"
    },
    {
     "data": {
      "image/png": "[encoded data removed]",
      "text/plain": [
       "<matplotlib.figure.Figure at 0x7f63c9cfa198>"
      ]
     },
     "metadata": {},
     "output_type": "display_data"
    }
   ],
   "source": [
    "#Mapa de calor entre las variables y ordenas por cluster estimado\n",
    "DCorrelacion=Datos.corr()\n",
    "sns.heatmap(DCorrelacion)"
   ]
  },
  {
   "cell_type": "markdown",
   "metadata": {},
   "source": [
    "El gráfico anterior nos ayuda a ver posibles **asociasiones lineales** entre las 30 variables,de éste gráfico resulta importante solo visualizar la parte superior o inferior de la diagonal, debido a que la correlación cumple con la siguiente relación de simetría: $Cor(X_1,X_2)=Cor(X_2,X_1).$\n",
    "\n",
    "Aplicamos una **regresión logística** como modelo, de momento imitimos detalles de este método.Pero vemos que es una clasificación binaria, ya que nuestra variable dependiente solo toma valores $0$ y $1$."
   ]
  },
  {
   "cell_type": "code",
   "execution_count": 19,
   "metadata": {},
   "outputs": [
    {
     "name": "stdout",
     "output_type": "stream",
     "text": [
      "Predicción de la Regresión Logística\n",
      "\n",
      "La presición del modelo fue de: 95.95 %\n"
     ]
    }
   ],
   "source": [
    "from sklearn.linear_model import LogisticRegression\n",
    "from sklearn.metrics import accuracy_score\n",
    "\n",
    "#Modelo\n",
    "RL=LogisticRegression()\n",
    "RL.fit(Datos,Target)\n",
    "\n",
    "Pred_RL=RL.predict(Datos)\n",
    "print(\"Predicción de la Regresión Logística\\n\")\n",
    "print(\"La presición del modelo fue de: %1.5s\"% (accuracy_score(Target,Pred_RL)*100)+\" %\")"
   ]
  },
  {
   "cell_type": "markdown",
   "metadata": {},
   "source": [
    "### Fuente de datos locales\n",
    "\n",
    "Para el tutorial se cuenta con varios archivos en el folder DataSets, para el primer ejemplo hacemos uso de uno de esos archivo con nombre `transfusion.data.txt`."
   ]
  },
  {
   "cell_type": "code",
   "execution_count": 28,
   "metadata": {
    "collapsed": true
   },
   "outputs": [],
   "source": [
    "#Se cargan las bibliotecas para gráficos y configuramso el entorno.\n",
    "%matplotlib inline\n",
    "\n",
    "import matplotlib.pyplot as plt\n",
    "plt.rcParams['figure.figsize']=(15,5)\n",
    "\n",
    "#Se carga pandas y scikit-learn\n",
    "import pandas as pd\n",
    "from  sklearn import tree\n",
    "from sklearn.metrics import accuracy_score\n",
    "\n",
    "#Se cargan los datos desde el directorio\n",
    "Transfusiones=pd.read_csv(\"DataSets/transfusion.data.txt\")"
   ]
  },
  {
   "cell_type": "code",
   "execution_count": 2,
   "metadata": {},
   "outputs": [
    {
     "data": {
      "text/html": [
       "<div>\n",
       "<style>\n",
       "    .dataframe thead tr:only-child th {\n",
       "        text-align: right;\n",
       "    }\n",
       "\n",
       "    .dataframe thead th {\n",
       "        text-align: left;\n",
       "    }\n",
       "\n",
       "    .dataframe tbody tr th {\n",
       "        vertical-align: top;\n",
       "    }\n",
       "</style>\n",
       "<table border=\"1\" class=\"dataframe\">\n",
       "  <thead>\n",
       "    <tr style=\"text-align: right;\">\n",
       "      <th></th>\n",
       "      <th>Recency (months)</th>\n",
       "      <th>Frequency (times)</th>\n",
       "      <th>Monetary (c.c. blood)</th>\n",
       "      <th>Time (months)</th>\n",
       "      <th>whether he/she donated blood in March 2007</th>\n",
       "    </tr>\n",
       "  </thead>\n",
       "  <tbody>\n",
       "    <tr>\n",
       "      <th>0</th>\n",
       "      <td>2</td>\n",
       "      <td>50</td>\n",
       "      <td>12500</td>\n",
       "      <td>98</td>\n",
       "      <td>1</td>\n",
       "    </tr>\n",
       "    <tr>\n",
       "      <th>1</th>\n",
       "      <td>0</td>\n",
       "      <td>13</td>\n",
       "      <td>3250</td>\n",
       "      <td>28</td>\n",
       "      <td>1</td>\n",
       "    </tr>\n",
       "    <tr>\n",
       "      <th>2</th>\n",
       "      <td>1</td>\n",
       "      <td>16</td>\n",
       "      <td>4000</td>\n",
       "      <td>35</td>\n",
       "      <td>1</td>\n",
       "    </tr>\n",
       "    <tr>\n",
       "      <th>3</th>\n",
       "      <td>2</td>\n",
       "      <td>20</td>\n",
       "      <td>5000</td>\n",
       "      <td>45</td>\n",
       "      <td>1</td>\n",
       "    </tr>\n",
       "    <tr>\n",
       "      <th>4</th>\n",
       "      <td>1</td>\n",
       "      <td>24</td>\n",
       "      <td>6000</td>\n",
       "      <td>77</td>\n",
       "      <td>0</td>\n",
       "    </tr>\n",
       "  </tbody>\n",
       "</table>\n",
       "</div>"
      ],
      "text/plain": [
       "   Recency (months)  Frequency (times)  Monetary (c.c. blood)  Time (months)  \\\n",
       "0                 2                 50                  12500             98   \n",
       "1                 0                 13                   3250             28   \n",
       "2                 1                 16                   4000             35   \n",
       "3                 2                 20                   5000             45   \n",
       "4                 1                 24                   6000             77   \n",
       "\n",
       "   whether he/she donated blood in March 2007  \n",
       "0                                           1  \n",
       "1                                           1  \n",
       "2                                           1  \n",
       "3                                           1  \n",
       "4                                           0  "
      ]
     },
     "execution_count": 2,
     "metadata": {},
     "output_type": "execute_result"
    }
   ],
   "source": [
    "#Se visualizan los primeros 5 registros del DataFrame creado con los datos\n",
    "Transfusiones.head()"
   ]
  },
  {
   "cell_type": "markdown",
   "metadata": {},
   "source": [
    "Se realiza una breve exploración y visualización de los datos. Posteriormente se aplica un árbol de decisiones sobrela variable Sexo \"*=whether he/she donated blood in March 2017*\" "
   ]
  },
  {
   "cell_type": "code",
   "execution_count": 3,
   "metadata": {},
   "outputs": [
    {
     "data": {
      "text/html": [
       "<div>\n",
       "<style>\n",
       "    .dataframe thead tr:only-child th {\n",
       "        text-align: right;\n",
       "    }\n",
       "\n",
       "    .dataframe thead th {\n",
       "        text-align: left;\n",
       "    }\n",
       "\n",
       "    .dataframe tbody tr th {\n",
       "        vertical-align: top;\n",
       "    }\n",
       "</style>\n",
       "<table border=\"1\" class=\"dataframe\">\n",
       "  <thead>\n",
       "    <tr style=\"text-align: right;\">\n",
       "      <th></th>\n",
       "      <th>Recency (months)</th>\n",
       "      <th>Frequency (times)</th>\n",
       "      <th>Monetary (c.c. blood)</th>\n",
       "      <th>Time (months)</th>\n",
       "      <th>whether he/she donated blood in March 2007</th>\n",
       "    </tr>\n",
       "  </thead>\n",
       "  <tbody>\n",
       "    <tr>\n",
       "      <th>count</th>\n",
       "      <td>748.000000</td>\n",
       "      <td>748.000000</td>\n",
       "      <td>748.000000</td>\n",
       "      <td>748.000000</td>\n",
       "      <td>748.000000</td>\n",
       "    </tr>\n",
       "    <tr>\n",
       "      <th>mean</th>\n",
       "      <td>9.506684</td>\n",
       "      <td>5.514706</td>\n",
       "      <td>1378.676471</td>\n",
       "      <td>34.282086</td>\n",
       "      <td>0.237968</td>\n",
       "    </tr>\n",
       "    <tr>\n",
       "      <th>std</th>\n",
       "      <td>8.095396</td>\n",
       "      <td>5.839307</td>\n",
       "      <td>1459.826781</td>\n",
       "      <td>24.376714</td>\n",
       "      <td>0.426124</td>\n",
       "    </tr>\n",
       "    <tr>\n",
       "      <th>min</th>\n",
       "      <td>0.000000</td>\n",
       "      <td>1.000000</td>\n",
       "      <td>250.000000</td>\n",
       "      <td>2.000000</td>\n",
       "      <td>0.000000</td>\n",
       "    </tr>\n",
       "    <tr>\n",
       "      <th>25%</th>\n",
       "      <td>2.750000</td>\n",
       "      <td>2.000000</td>\n",
       "      <td>500.000000</td>\n",
       "      <td>16.000000</td>\n",
       "      <td>0.000000</td>\n",
       "    </tr>\n",
       "    <tr>\n",
       "      <th>50%</th>\n",
       "      <td>7.000000</td>\n",
       "      <td>4.000000</td>\n",
       "      <td>1000.000000</td>\n",
       "      <td>28.000000</td>\n",
       "      <td>0.000000</td>\n",
       "    </tr>\n",
       "    <tr>\n",
       "      <th>75%</th>\n",
       "      <td>14.000000</td>\n",
       "      <td>7.000000</td>\n",
       "      <td>1750.000000</td>\n",
       "      <td>50.000000</td>\n",
       "      <td>0.000000</td>\n",
       "    </tr>\n",
       "    <tr>\n",
       "      <th>max</th>\n",
       "      <td>74.000000</td>\n",
       "      <td>50.000000</td>\n",
       "      <td>12500.000000</td>\n",
       "      <td>98.000000</td>\n",
       "      <td>1.000000</td>\n",
       "    </tr>\n",
       "  </tbody>\n",
       "</table>\n",
       "</div>"
      ],
      "text/plain": [
       "       Recency (months)  Frequency (times)  Monetary (c.c. blood)  \\\n",
       "count        748.000000         748.000000             748.000000   \n",
       "mean           9.506684           5.514706            1378.676471   \n",
       "std            8.095396           5.839307            1459.826781   \n",
       "min            0.000000           1.000000             250.000000   \n",
       "25%            2.750000           2.000000             500.000000   \n",
       "50%            7.000000           4.000000            1000.000000   \n",
       "75%           14.000000           7.000000            1750.000000   \n",
       "max           74.000000          50.000000           12500.000000   \n",
       "\n",
       "       Time (months)  whether he/she donated blood in March 2007  \n",
       "count     748.000000                                  748.000000  \n",
       "mean       34.282086                                    0.237968  \n",
       "std        24.376714                                    0.426124  \n",
       "min         2.000000                                    0.000000  \n",
       "25%        16.000000                                    0.000000  \n",
       "50%        28.000000                                    0.000000  \n",
       "75%        50.000000                                    0.000000  \n",
       "max        98.000000                                    1.000000  "
      ]
     },
     "execution_count": 3,
     "metadata": {},
     "output_type": "execute_result"
    }
   ],
   "source": [
    "Transfusiones.describe()"
   ]
  },
  {
   "cell_type": "markdown",
   "metadata": {},
   "source": [
    "Vemos que las primeras 4 variables se pueden visualizar como variables *\"continuas\"*, por lo cual hacemos los histogramas correspondientes."
   ]
  },
  {
   "cell_type": "code",
   "execution_count": 33,
   "metadata": {},
   "outputs": [
    {
     "data": {
      "text/plain": [
       "<matplotlib.axes._subplots.AxesSubplot at 0x7feb0c345860>"
      ]
     },
     "execution_count": 33,
     "metadata": {},
     "output_type": "execute_result"
    },
    {
     "data": {
      "image/png": "[encoded data removed]",
      "text/plain": [
       "<matplotlib.figure.Figure at 0x7feb0cc90198>"
      ]
     },
     "metadata": {},
     "output_type": "display_data"
    }
   ],
   "source": [
    "#Se crea el histográma de las primeras 4 variables\n",
    "\n",
    "Transfusiones.iloc[:,0:4].plot.hist(alpha=0.5)"
   ]
  },
  {
   "cell_type": "markdown",
   "metadata": {},
   "source": [
    "Vemos con el [histograma](https://es.wikipedia.org/wiki/Histograma) la forma de la [distribución](https://es.wikipedia.org/wiki/Distribuci%C3%B3n_de_probabilidad) de las variables independientes o predictivas, observamos que tienen una forma peculia. Cuantan con muchos valores pequeños y pocos de magnitud grande."
   ]
  },
  {
   "cell_type": "code",
   "execution_count": 26,
   "metadata": {},
   "outputs": [
    {
     "name": "stdout",
     "output_type": "stream",
     "text": [
      "Predicción del Árbol de Decisiones\n",
      "\n",
      "Valor obtenido de a clasificación: 93.1818181818 %\n"
     ]
    }
   ],
   "source": [
    "#Aplicamos un árbol de decisiones sobre la clasificación\n",
    "\n",
    "X=Transfusiones.iloc[:,0:4]\n",
    "y=Transfusiones.iloc[:,4]\n",
    "\n",
    "Modelo=tree.DecisionTreeClassifier()\n",
    "Modelo.fit(X,y)\n",
    "Pred=Modelo.predict(X)\n",
    "\n",
    "print(\"Predicción del Árbol de Decisiones\\n\")\n",
    "print(\"Valor obtenido de a clasificación: %s\"%(accuracy_score(y,Pred)*100)+\" %\")"
   ]
  },
  {
   "cell_type": "markdown",
   "metadata": {},
   "source": [
    "### Ejemplo de carga de datos desde alguna fuente externa\n",
    "\n",
    "Hoy día se cuentan con muchos repositorios con datos de diferentes tipos. También existen organizaciones de \"datos abiertos\" en diferentes países. En México la plataforma de datos abiertos se encuentra en el sitio:\n",
    "\n",
    "* [https://datos.gob.mx/](https://datos.gob.mx/)\n",
    "\n",
    "También está el banco de datos del INEGI:\n",
    "\n",
    "* [http://www.inegi.org.mx/](http://www.inegi.org.mx/)\n",
    "\n",
    "Otros repositorios de organizaciones internacionales como la ONU o el Banco Mundial:\n",
    "\n",
    "* [http://data.un.org/](http://data.un.org/)\n",
    "* [http://data.worldbank.org/](http://data.worldbank.org/)\n",
    "\n",
    "Algúnos repositorios famosos con datos preparados para probar algún algoritmos son:\n",
    "\n",
    "* [UC Irvine Machine Learning Repository](http://archive.ics.uci.edu/ml/)\n",
    "* [http://www.kdd.org/](http://www.kdd.org/)\n",
    "* [https://www.kaggle.com](https://www.kaggle.com/datasets)\n",
    "\n",
    "Para el ejemplo extremos datos sobre la tasa de desocupación:\n",
    "\n",
    "*\"Proporción de las personas desocupadas, respecto de la Población Económicamente Activa. Este indicador ilustra la magnitud relativa de las personas que desean trabajar y buscan trabajo, pero no lo han encontrado.\"*\n",
    "\n",
    "Desde [*Open data México*](https://datos.gob.mx/)."
   ]
  },
  {
   "cell_type": "code",
   "execution_count": 51,
   "metadata": {
    "collapsed": true
   },
   "outputs": [],
   "source": [
    "import pandas as pd\n",
    "import io\n",
    "import requests\n",
    "\n",
    "\n",
    "url = \"http://datosabiertos.stps.gob.mx/ods/Base_Tasa_de_desocupación.csv\"\n",
    "Info=requests.get(url).content\n",
    "Tasa_Desocupacion=pd.read_csv(io.StringIO(Info.decode('utf-8')))"
   ]
  },
  {
   "cell_type": "code",
   "execution_count": 52,
   "metadata": {},
   "outputs": [
    {
     "data": {
      "text/html": [
       "<div>\n",
       "<style>\n",
       "    .dataframe thead tr:only-child th {\n",
       "        text-align: right;\n",
       "    }\n",
       "\n",
       "    .dataframe thead th {\n",
       "        text-align: left;\n",
       "    }\n",
       "\n",
       "    .dataframe tbody tr th {\n",
       "        vertical-align: top;\n",
       "    }\n",
       "</style>\n",
       "<table border=\"1\" class=\"dataframe\">\n",
       "  <thead>\n",
       "    <tr style=\"text-align: right;\">\n",
       "      <th></th>\n",
       "      <th>Periodo</th>\n",
       "      <th>Entidad_Federativa</th>\n",
       "      <th>Sexo</th>\n",
       "      <th>Gpo_edad</th>\n",
       "      <th>Pob_desocup</th>\n",
       "      <th>PEA</th>\n",
       "    </tr>\n",
       "  </thead>\n",
       "  <tbody>\n",
       "    <tr>\n",
       "      <th>0</th>\n",
       "      <td>1995</td>\n",
       "      <td>Nacional</td>\n",
       "      <td>Hombres</td>\n",
       "      <td>De 15 a 29 años</td>\n",
       "      <td>809,806</td>\n",
       "      <td>9,786,726</td>\n",
       "    </tr>\n",
       "    <tr>\n",
       "      <th>1</th>\n",
       "      <td>1995</td>\n",
       "      <td>Nacional</td>\n",
       "      <td>Hombres</td>\n",
       "      <td>De 30 y más años</td>\n",
       "      <td>589,653</td>\n",
       "      <td>13,391,135</td>\n",
       "    </tr>\n",
       "    <tr>\n",
       "      <th>2</th>\n",
       "      <td>1995</td>\n",
       "      <td>Nacional</td>\n",
       "      <td>Mujeres</td>\n",
       "      <td>De 15 a 29 años</td>\n",
       "      <td>690,250</td>\n",
       "      <td>5,256,386</td>\n",
       "    </tr>\n",
       "    <tr>\n",
       "      <th>3</th>\n",
       "      <td>1995</td>\n",
       "      <td>Nacional</td>\n",
       "      <td>Mujeres</td>\n",
       "      <td>De 30 y más años</td>\n",
       "      <td>289,260</td>\n",
       "      <td>6,119,608</td>\n",
       "    </tr>\n",
       "    <tr>\n",
       "      <th>4</th>\n",
       "      <td>1996</td>\n",
       "      <td>Aguascalientes</td>\n",
       "      <td>Hombres</td>\n",
       "      <td>De 15 a 29 años</td>\n",
       "      <td>6,889</td>\n",
       "      <td>89,952</td>\n",
       "    </tr>\n",
       "  </tbody>\n",
       "</table>\n",
       "</div>"
      ],
      "text/plain": [
       "   Periodo Entidad_Federativa     Sexo          Gpo_edad Pob_desocup  \\\n",
       "0     1995           Nacional  Hombres   De 15 a 29 años     809,806   \n",
       "1     1995           Nacional  Hombres  De 30 y más años     589,653   \n",
       "2     1995           Nacional  Mujeres   De 15 a 29 años     690,250   \n",
       "3     1995           Nacional  Mujeres  De 30 y más años     289,260   \n",
       "4     1996     Aguascalientes  Hombres   De 15 a 29 años       6,889   \n",
       "\n",
       "          PEA  \n",
       "0   9,786,726  \n",
       "1  13,391,135  \n",
       "2   5,256,386  \n",
       "3   6,119,608  \n",
       "4      89,952  "
      ]
     },
     "execution_count": 52,
     "metadata": {},
     "output_type": "execute_result"
    }
   ],
   "source": [
    "Tasa_Desocupacion.head()"
   ]
  },
  {
   "cell_type": "code",
   "execution_count": 53,
   "metadata": {},
   "outputs": [
    {
     "name": "stdout",
     "output_type": "stream",
     "text": [
      "<class 'pandas.core.frame.DataFrame'>\n",
      "RangeIndex: 2184 entries, 0 to 2183\n",
      "Data columns (total 6 columns):\n",
      "Periodo               2184 non-null int64\n",
      "Entidad_Federativa    2184 non-null object\n",
      "Sexo                  2184 non-null object\n",
      "Gpo_edad              2184 non-null object\n",
      "Pob_desocup           2184 non-null object\n",
      "PEA                   2184 non-null object\n",
      "dtypes: int64(1), object(5)\n",
      "memory usage: 102.5+ KB\n"
     ]
    }
   ],
   "source": [
    "Tasa_Desocupacion.info()"
   ]
  },
  {
   "cell_type": "markdown",
   "metadata": {},
   "source": [
    "Se observa que el tipo de datos de las variables **Pob_desocup** y **PEA** no son numéricas, por lo cual se cambia el tipo de dato. Pero primero se eliman las `','` comas y luego se convierten a números enteros."
   ]
  },
  {
   "cell_type": "code",
   "execution_count": 54,
   "metadata": {},
   "outputs": [
    {
     "data": {
      "text/html": [
       "<div>\n",
       "<style>\n",
       "    .dataframe thead tr:only-child th {\n",
       "        text-align: right;\n",
       "    }\n",
       "\n",
       "    .dataframe thead th {\n",
       "        text-align: left;\n",
       "    }\n",
       "\n",
       "    .dataframe tbody tr th {\n",
       "        vertical-align: top;\n",
       "    }\n",
       "</style>\n",
       "<table border=\"1\" class=\"dataframe\">\n",
       "  <thead>\n",
       "    <tr style=\"text-align: right;\">\n",
       "      <th></th>\n",
       "      <th>Periodo</th>\n",
       "      <th>Entidad_Federativa</th>\n",
       "      <th>Sexo</th>\n",
       "      <th>Gpo_edad</th>\n",
       "      <th>Pob_desocup</th>\n",
       "      <th>PEA</th>\n",
       "    </tr>\n",
       "  </thead>\n",
       "  <tbody>\n",
       "    <tr>\n",
       "      <th>0</th>\n",
       "      <td>1995</td>\n",
       "      <td>Nacional</td>\n",
       "      <td>Hombres</td>\n",
       "      <td>De 15 a 29 años</td>\n",
       "      <td>809806</td>\n",
       "      <td>9786726</td>\n",
       "    </tr>\n",
       "    <tr>\n",
       "      <th>1</th>\n",
       "      <td>1995</td>\n",
       "      <td>Nacional</td>\n",
       "      <td>Hombres</td>\n",
       "      <td>De 30 y más años</td>\n",
       "      <td>589653</td>\n",
       "      <td>13391135</td>\n",
       "    </tr>\n",
       "    <tr>\n",
       "      <th>2</th>\n",
       "      <td>1995</td>\n",
       "      <td>Nacional</td>\n",
       "      <td>Mujeres</td>\n",
       "      <td>De 15 a 29 años</td>\n",
       "      <td>690250</td>\n",
       "      <td>5256386</td>\n",
       "    </tr>\n",
       "    <tr>\n",
       "      <th>3</th>\n",
       "      <td>1995</td>\n",
       "      <td>Nacional</td>\n",
       "      <td>Mujeres</td>\n",
       "      <td>De 30 y más años</td>\n",
       "      <td>289260</td>\n",
       "      <td>6119608</td>\n",
       "    </tr>\n",
       "    <tr>\n",
       "      <th>4</th>\n",
       "      <td>1996</td>\n",
       "      <td>Aguascalientes</td>\n",
       "      <td>Hombres</td>\n",
       "      <td>De 15 a 29 años</td>\n",
       "      <td>6889</td>\n",
       "      <td>89952</td>\n",
       "    </tr>\n",
       "  </tbody>\n",
       "</table>\n",
       "</div>"
      ],
      "text/plain": [
       "   Periodo Entidad_Federativa     Sexo          Gpo_edad Pob_desocup       PEA\n",
       "0     1995           Nacional  Hombres   De 15 a 29 años      809806   9786726\n",
       "1     1995           Nacional  Hombres  De 30 y más años      589653  13391135\n",
       "2     1995           Nacional  Mujeres   De 15 a 29 años      690250   5256386\n",
       "3     1995           Nacional  Mujeres  De 30 y más años      289260   6119608\n",
       "4     1996     Aguascalientes  Hombres   De 15 a 29 años        6889     89952"
      ]
     },
     "execution_count": 54,
     "metadata": {},
     "output_type": "execute_result"
    }
   ],
   "source": [
    "#Se eliminan la comas de las cadenas\n",
    "\n",
    "Tasa_Desocupacion.PEA=Tasa_Desocupacion.PEA.apply(lambda x: x.replace(',','')).copy()\n",
    "Tasa_Desocupacion.Pob_desocup=Tasa_Desocupacion.Pob_desocup.apply(lambda x: x.replace(',','')).copy()\n",
    "\n",
    "#Se visualiza la tabla de datos \n",
    "Tasa_Desocupacion.head()"
   ]
  },
  {
   "cell_type": "code",
   "execution_count": 56,
   "metadata": {},
   "outputs": [
    {
     "name": "stdout",
     "output_type": "stream",
     "text": [
      "<class 'pandas.core.frame.DataFrame'>\n",
      "RangeIndex: 2184 entries, 0 to 2183\n",
      "Data columns (total 6 columns):\n",
      "Periodo               2184 non-null int64\n",
      "Entidad_Federativa    2184 non-null object\n",
      "Sexo                  2184 non-null object\n",
      "Gpo_edad              2184 non-null object\n",
      "Pob_desocup           2184 non-null float32\n",
      "PEA                   2184 non-null float32\n",
      "dtypes: float32(2), int64(1), object(3)\n",
      "memory usage: 85.4+ KB\n"
     ]
    }
   ],
   "source": [
    "#Se cambia el tipo de dato asignado a PEA  y Pob_desocup\n",
    "Tasa_Desocupacion.PEA=pd.to_numeric(Tasa_Desocupacion.PEA,downcast='float')\n",
    "Tasa_Desocupacion.Pob_desocup=pd.to_numeric(Tasa_Desocupacion.Pob_desocup,downcast='float')\n",
    "\n",
    "Tasa_Desocupacion.info()"
   ]
  },
  {
   "cell_type": "code",
   "execution_count": 57,
   "metadata": {},
   "outputs": [
    {
     "data": {
      "text/html": [
       "<div>\n",
       "<style>\n",
       "    .dataframe thead tr:only-child th {\n",
       "        text-align: right;\n",
       "    }\n",
       "\n",
       "    .dataframe thead th {\n",
       "        text-align: left;\n",
       "    }\n",
       "\n",
       "    .dataframe tbody tr th {\n",
       "        vertical-align: top;\n",
       "    }\n",
       "</style>\n",
       "<table border=\"1\" class=\"dataframe\">\n",
       "  <thead>\n",
       "    <tr style=\"text-align: right;\">\n",
       "      <th></th>\n",
       "      <th>Periodo</th>\n",
       "      <th>Entidad_Federativa</th>\n",
       "      <th>Sexo</th>\n",
       "      <th>Gpo_edad</th>\n",
       "      <th>Pob_desocup</th>\n",
       "      <th>PEA</th>\n",
       "    </tr>\n",
       "  </thead>\n",
       "  <tbody>\n",
       "    <tr>\n",
       "      <th>0</th>\n",
       "      <td>1995</td>\n",
       "      <td>Nacional</td>\n",
       "      <td>Hombres</td>\n",
       "      <td>De 15 a 29 años</td>\n",
       "      <td>809806.0</td>\n",
       "      <td>9786726.0</td>\n",
       "    </tr>\n",
       "    <tr>\n",
       "      <th>1</th>\n",
       "      <td>1995</td>\n",
       "      <td>Nacional</td>\n",
       "      <td>Hombres</td>\n",
       "      <td>De 30 y más años</td>\n",
       "      <td>589653.0</td>\n",
       "      <td>13391135.0</td>\n",
       "    </tr>\n",
       "    <tr>\n",
       "      <th>2</th>\n",
       "      <td>1995</td>\n",
       "      <td>Nacional</td>\n",
       "      <td>Mujeres</td>\n",
       "      <td>De 15 a 29 años</td>\n",
       "      <td>690250.0</td>\n",
       "      <td>5256386.0</td>\n",
       "    </tr>\n",
       "    <tr>\n",
       "      <th>3</th>\n",
       "      <td>1995</td>\n",
       "      <td>Nacional</td>\n",
       "      <td>Mujeres</td>\n",
       "      <td>De 30 y más años</td>\n",
       "      <td>289260.0</td>\n",
       "      <td>6119608.0</td>\n",
       "    </tr>\n",
       "    <tr>\n",
       "      <th>4</th>\n",
       "      <td>1996</td>\n",
       "      <td>Aguascalientes</td>\n",
       "      <td>Hombres</td>\n",
       "      <td>De 15 a 29 años</td>\n",
       "      <td>6889.0</td>\n",
       "      <td>89952.0</td>\n",
       "    </tr>\n",
       "  </tbody>\n",
       "</table>\n",
       "</div>"
      ],
      "text/plain": [
       "   Periodo Entidad_Federativa     Sexo          Gpo_edad  Pob_desocup  \\\n",
       "0     1995           Nacional  Hombres   De 15 a 29 años     809806.0   \n",
       "1     1995           Nacional  Hombres  De 30 y más años     589653.0   \n",
       "2     1995           Nacional  Mujeres   De 15 a 29 años     690250.0   \n",
       "3     1995           Nacional  Mujeres  De 30 y más años     289260.0   \n",
       "4     1996     Aguascalientes  Hombres   De 15 a 29 años       6889.0   \n",
       "\n",
       "          PEA  \n",
       "0   9786726.0  \n",
       "1  13391135.0  \n",
       "2   5256386.0  \n",
       "3   6119608.0  \n",
       "4     89952.0  "
      ]
     },
     "execution_count": 57,
     "metadata": {},
     "output_type": "execute_result"
    }
   ],
   "source": [
    "Tasa_Desocupacion.head()"
   ]
  },
  {
   "cell_type": "markdown",
   "metadata": {},
   "source": [
    "Exploramos el comportamiento de la tasa de desocupación de los Hombres en cada año por estado y ver como está relacionado con la Poblacion Económiamente Activa."
   ]
  },
  {
   "cell_type": "code",
   "execution_count": 76,
   "metadata": {},
   "outputs": [
    {
     "data": {
      "text/html": [
       "<div>\n",
       "<style>\n",
       "    .dataframe thead tr:only-child th {\n",
       "        text-align: right;\n",
       "    }\n",
       "\n",
       "    .dataframe thead th {\n",
       "        text-align: left;\n",
       "    }\n",
       "\n",
       "    .dataframe tbody tr th {\n",
       "        vertical-align: top;\n",
       "    }\n",
       "</style>\n",
       "<table border=\"1\" class=\"dataframe\">\n",
       "  <thead>\n",
       "    <tr style=\"text-align: right;\">\n",
       "      <th>Entidad_Federativa</th>\n",
       "      <th>Aguascalientes</th>\n",
       "      <th>Baja California</th>\n",
       "      <th>Baja California Sur</th>\n",
       "      <th>Campeche</th>\n",
       "      <th>Chiapas</th>\n",
       "      <th>Chihuahua</th>\n",
       "      <th>Coahuila</th>\n",
       "      <th>Colima</th>\n",
       "      <th>Distrito Federal</th>\n",
       "      <th>Durango</th>\n",
       "      <th>...</th>\n",
       "      <th>San Luis Potosí</th>\n",
       "      <th>Sinaloa</th>\n",
       "      <th>Sonora</th>\n",
       "      <th>Tabasco</th>\n",
       "      <th>Tamaulipas</th>\n",
       "      <th>Tlaxcala</th>\n",
       "      <th>Veracruz</th>\n",
       "      <th>Yucatan</th>\n",
       "      <th>Yucatán</th>\n",
       "      <th>Zacatecas</th>\n",
       "    </tr>\n",
       "    <tr>\n",
       "      <th>Periodo</th>\n",
       "      <th></th>\n",
       "      <th></th>\n",
       "      <th></th>\n",
       "      <th></th>\n",
       "      <th></th>\n",
       "      <th></th>\n",
       "      <th></th>\n",
       "      <th></th>\n",
       "      <th></th>\n",
       "      <th></th>\n",
       "      <th></th>\n",
       "      <th></th>\n",
       "      <th></th>\n",
       "      <th></th>\n",
       "      <th></th>\n",
       "      <th></th>\n",
       "      <th></th>\n",
       "      <th></th>\n",
       "      <th></th>\n",
       "      <th></th>\n",
       "      <th></th>\n",
       "    </tr>\n",
       "  </thead>\n",
       "  <tbody>\n",
       "    <tr>\n",
       "      <th>1996</th>\n",
       "      <td>11215.0</td>\n",
       "      <td>16065.0</td>\n",
       "      <td>3676.0</td>\n",
       "      <td>3171.0</td>\n",
       "      <td>19354.0</td>\n",
       "      <td>29737.0</td>\n",
       "      <td>32510.0</td>\n",
       "      <td>3039.0</td>\n",
       "      <td>187275.0</td>\n",
       "      <td>18166.0</td>\n",
       "      <td>...</td>\n",
       "      <td>10485.0</td>\n",
       "      <td>25464.0</td>\n",
       "      <td>26487.0</td>\n",
       "      <td>11796.0</td>\n",
       "      <td>37037.0</td>\n",
       "      <td>9307.0</td>\n",
       "      <td>68257.0</td>\n",
       "      <td>0.0</td>\n",
       "      <td>7980.0</td>\n",
       "      <td>7965.0</td>\n",
       "    </tr>\n",
       "    <tr>\n",
       "      <th>1998</th>\n",
       "      <td>7078.0</td>\n",
       "      <td>14910.0</td>\n",
       "      <td>2061.0</td>\n",
       "      <td>3186.0</td>\n",
       "      <td>14034.0</td>\n",
       "      <td>17480.0</td>\n",
       "      <td>23029.0</td>\n",
       "      <td>2578.0</td>\n",
       "      <td>105658.0</td>\n",
       "      <td>8515.0</td>\n",
       "      <td>...</td>\n",
       "      <td>8964.0</td>\n",
       "      <td>20706.0</td>\n",
       "      <td>25243.0</td>\n",
       "      <td>13888.0</td>\n",
       "      <td>25818.0</td>\n",
       "      <td>6789.0</td>\n",
       "      <td>41299.0</td>\n",
       "      <td>0.0</td>\n",
       "      <td>6688.0</td>\n",
       "      <td>6609.0</td>\n",
       "    </tr>\n",
       "    <tr>\n",
       "      <th>2000</th>\n",
       "      <td>6195.0</td>\n",
       "      <td>10505.0</td>\n",
       "      <td>2889.0</td>\n",
       "      <td>2859.0</td>\n",
       "      <td>13776.0</td>\n",
       "      <td>11710.0</td>\n",
       "      <td>14378.0</td>\n",
       "      <td>2325.0</td>\n",
       "      <td>82758.0</td>\n",
       "      <td>7149.0</td>\n",
       "      <td>...</td>\n",
       "      <td>8062.0</td>\n",
       "      <td>20793.0</td>\n",
       "      <td>15764.0</td>\n",
       "      <td>11312.0</td>\n",
       "      <td>16865.0</td>\n",
       "      <td>6912.0</td>\n",
       "      <td>37825.0</td>\n",
       "      <td>0.0</td>\n",
       "      <td>5512.0</td>\n",
       "      <td>7984.0</td>\n",
       "    </tr>\n",
       "    <tr>\n",
       "      <th>2001</th>\n",
       "      <td>0.0</td>\n",
       "      <td>10116.0</td>\n",
       "      <td>2932.0</td>\n",
       "      <td>2818.0</td>\n",
       "      <td>15601.0</td>\n",
       "      <td>21076.0</td>\n",
       "      <td>18921.0</td>\n",
       "      <td>3804.0</td>\n",
       "      <td>76312.0</td>\n",
       "      <td>11406.0</td>\n",
       "      <td>...</td>\n",
       "      <td>9159.0</td>\n",
       "      <td>22629.0</td>\n",
       "      <td>28057.0</td>\n",
       "      <td>15138.0</td>\n",
       "      <td>23096.0</td>\n",
       "      <td>5612.0</td>\n",
       "      <td>30891.0</td>\n",
       "      <td>0.0</td>\n",
       "      <td>6813.0</td>\n",
       "      <td>6208.0</td>\n",
       "    </tr>\n",
       "    <tr>\n",
       "      <th>2002</th>\n",
       "      <td>6175.0</td>\n",
       "      <td>17122.0</td>\n",
       "      <td>3154.0</td>\n",
       "      <td>3095.0</td>\n",
       "      <td>14739.0</td>\n",
       "      <td>28050.0</td>\n",
       "      <td>29420.0</td>\n",
       "      <td>2695.0</td>\n",
       "      <td>79606.0</td>\n",
       "      <td>13274.0</td>\n",
       "      <td>...</td>\n",
       "      <td>7047.0</td>\n",
       "      <td>22121.0</td>\n",
       "      <td>33147.0</td>\n",
       "      <td>8848.0</td>\n",
       "      <td>28185.0</td>\n",
       "      <td>6648.0</td>\n",
       "      <td>32257.0</td>\n",
       "      <td>0.0</td>\n",
       "      <td>5979.0</td>\n",
       "      <td>6427.0</td>\n",
       "    </tr>\n",
       "  </tbody>\n",
       "</table>\n",
       "<p>5 rows × 38 columns</p>\n",
       "</div>"
      ],
      "text/plain": [
       "Entidad_Federativa  Aguascalientes  Baja California  Baja California Sur  \\\n",
       "Periodo                                                                    \n",
       "1996                       11215.0          16065.0               3676.0   \n",
       "1998                        7078.0          14910.0               2061.0   \n",
       "2000                        6195.0          10505.0               2889.0   \n",
       "2001                           0.0          10116.0               2932.0   \n",
       "2002                        6175.0          17122.0               3154.0   \n",
       "\n",
       "Entidad_Federativa  Campeche  Chiapas  Chihuahua  Coahuila  Colima  \\\n",
       "Periodo                                                              \n",
       "1996                  3171.0  19354.0    29737.0   32510.0  3039.0   \n",
       "1998                  3186.0  14034.0    17480.0   23029.0  2578.0   \n",
       "2000                  2859.0  13776.0    11710.0   14378.0  2325.0   \n",
       "2001                  2818.0  15601.0    21076.0   18921.0  3804.0   \n",
       "2002                  3095.0  14739.0    28050.0   29420.0  2695.0   \n",
       "\n",
       "Entidad_Federativa  Distrito Federal  Durango    ...      San Luis Potosí  \\\n",
       "Periodo                                          ...                        \n",
       "1996                        187275.0  18166.0    ...              10485.0   \n",
       "1998                        105658.0   8515.0    ...               8964.0   \n",
       "2000                         82758.0   7149.0    ...               8062.0   \n",
       "2001                         76312.0  11406.0    ...               9159.0   \n",
       "2002                         79606.0  13274.0    ...               7047.0   \n",
       "\n",
       "Entidad_Federativa  Sinaloa   Sonora  Tabasco  Tamaulipas  Tlaxcala  Veracruz  \\\n",
       "Periodo                                                                         \n",
       "1996                25464.0  26487.0  11796.0     37037.0    9307.0   68257.0   \n",
       "1998                20706.0  25243.0  13888.0     25818.0    6789.0   41299.0   \n",
       "2000                20793.0  15764.0  11312.0     16865.0    6912.0   37825.0   \n",
       "2001                22629.0  28057.0  15138.0     23096.0    5612.0   30891.0   \n",
       "2002                22121.0  33147.0   8848.0     28185.0    6648.0   32257.0   \n",
       "\n",
       "Entidad_Federativa  Yucatan  Yucatán  Zacatecas  \n",
       "Periodo                                          \n",
       "1996                    0.0   7980.0     7965.0  \n",
       "1998                    0.0   6688.0     6609.0  \n",
       "2000                    0.0   5512.0     7984.0  \n",
       "2001                    0.0   6813.0     6208.0  \n",
       "2002                    0.0   5979.0     6427.0  \n",
       "\n",
       "[5 rows x 38 columns]"
      ]
     },
     "execution_count": 76,
     "metadata": {},
     "output_type": "execute_result"
    }
   ],
   "source": [
    "Datos_Entidades=Tasa_Desocupacion[(Tasa_Desocupacion.Sexo=='Hombres')&(Tasa_Desocupacion.Entidad_Federativa!='Nacional')][['Periodo','Entidad_Federativa','Pob_desocup']].pivot_table(index='Periodo',columns='Entidad_Federativa',aggfunc='sum',values='Pob_desocup').fillna(0)\n",
    "Datos_Entidades.head()"
   ]
  },
  {
   "cell_type": "code",
   "execution_count": 77,
   "metadata": {},
   "outputs": [
    {
     "data": {
      "text/html": [
       "<div>\n",
       "<style>\n",
       "    .dataframe thead tr:only-child th {\n",
       "        text-align: right;\n",
       "    }\n",
       "\n",
       "    .dataframe thead th {\n",
       "        text-align: left;\n",
       "    }\n",
       "\n",
       "    .dataframe tbody tr th {\n",
       "        vertical-align: top;\n",
       "    }\n",
       "</style>\n",
       "<table border=\"1\" class=\"dataframe\">\n",
       "  <thead>\n",
       "    <tr style=\"text-align: right;\">\n",
       "      <th></th>\n",
       "      <th>PEA</th>\n",
       "    </tr>\n",
       "    <tr>\n",
       "      <th>Periodo</th>\n",
       "      <th></th>\n",
       "    </tr>\n",
       "  </thead>\n",
       "  <tbody>\n",
       "    <tr>\n",
       "      <th>1996</th>\n",
       "      <td>368879.81250</td>\n",
       "    </tr>\n",
       "    <tr>\n",
       "      <th>1998</th>\n",
       "      <td>388283.43750</td>\n",
       "    </tr>\n",
       "    <tr>\n",
       "      <th>2000</th>\n",
       "      <td>394707.46875</td>\n",
       "    </tr>\n",
       "    <tr>\n",
       "      <th>2001</th>\n",
       "      <td>407105.71875</td>\n",
       "    </tr>\n",
       "    <tr>\n",
       "      <th>2002</th>\n",
       "      <td>404742.43750</td>\n",
       "    </tr>\n",
       "  </tbody>\n",
       "</table>\n",
       "</div>"
      ],
      "text/plain": [
       "                  PEA\n",
       "Periodo              \n",
       "1996     368879.81250\n",
       "1998     388283.43750\n",
       "2000     394707.46875\n",
       "2001     407105.71875\n",
       "2002     404742.43750"
      ]
     },
     "execution_count": 77,
     "metadata": {},
     "output_type": "execute_result"
    }
   ],
   "source": [
    "#Construimos la variable que indique la cantidad de población PEA del género \"hombre\" por año\n",
    "\n",
    "Tasa_Desocupacion\n",
    "Prom_PEA=Tasa_Desocupacion[(Tasa_Desocupacion.Sexo=='Hombres')&(Tasa_Desocupacion.Entidad_Federativa!='Nacional')][['Periodo','PEA']].groupby('Periodo').mean()\n",
    "Prom_PEA.head()"
   ]
  },
  {
   "cell_type": "code",
   "execution_count": 78,
   "metadata": {},
   "outputs": [
    {
     "name": "stdout",
     "output_type": "stream",
     "text": [
      "Tamaño de la matriz de datos de las Entidades\n",
      "(17, 38)\n",
      "\n",
      "Tamaño del predictor\n",
      "(17, 1)\n",
      "\n"
     ]
    }
   ],
   "source": [
    "print(\"Tamaño de la matriz de datos de las Entidades\")\n",
    "print(Datos_Entidades.shape)\n",
    "print()\n",
    "print(\"Tamaño del predictor\")\n",
    "print(Prom_PEA.shape)\n",
    "print()"
   ]
  },
  {
   "cell_type": "markdown",
   "metadata": {},
   "source": [
    "Hacemos como ejercicio simple una regresión entre los datos de las entidades vs la PEA por año."
   ]
  },
  {
   "cell_type": "code",
   "execution_count": 79,
   "metadata": {},
   "outputs": [
    {
     "name": "stdout",
     "output_type": "stream",
     "text": [
      "El Error Cuadrático Medio es:\n",
      "0.000708810506751\n"
     ]
    }
   ],
   "source": [
    "from sklearn.linear_model import LinearRegression #Regresion Lineal\n",
    "from sklearn.metrics import mean_squared_error  #Error cuadrático Medio\n",
    "\n",
    "#Se define el modelo\n",
    "Modelo_LR=LinearRegression()\n",
    "#Se estima el modelo\n",
    "Modelo_LR.fit(Datos_Entidades,Prom_PEA)\n",
    "#Se predice con los datos de las entidades\n",
    "Pred_PEA=Modelo_LR.predict(Datos_Entidades)\n",
    "\n",
    "#Se revisa el error cuadrático medio\n",
    "print(\"El Error Cuadrático Medio es:\")\n",
    "print(mean_squared_error(Prom_PEA,Pred_PEA))"
   ]
  },
  {
   "cell_type": "code",
   "execution_count": 80,
   "metadata": {},
   "outputs": [
    {
     "data": {
      "text/plain": [
       "<matplotlib.text.Text at 0x7f63b6ffed30>"
      ]
     },
     "execution_count": 80,
     "metadata": {},
     "output_type": "execute_result"
    },
    {
     "data": {
      "image/png": "[encoded data removed]",
      "text/plain": [
       "<matplotlib.figure.Figure at 0x7f63b6884c18>"
      ]
     },
     "metadata": {},
     "output_type": "display_data"
    }
   ],
   "source": [
    "#Graficación de Resultados\n",
    "plt.plot(Prom_PEA,Pred_PEA,'r-')\n",
    "plt.plot(Prom_PEA,Prom_PEA,'ko')\n",
    "plt.xlabel(\"Promedio de Población Económicamente Activa\")\n",
    "plt.ylabel(\"Predicción de la Población Económicamente Activa\")\n",
    "plt.title(\"Ejemplo sencillo de una Regresión\")"
   ]
  },
  {
   "cell_type": "markdown",
   "metadata": {},
   "source": [
    "El ejemplo anterir no es interesante del todo, ya que al final la población económicamente activa y la población desocupada guardan cierta relación y la muestra de datos se vuelve una muestra muy pequeña. Lo único que se deseaba mostrar era el hecho de poder cargar datos desde algún *repositorio, pre-procesarlos y estimar algún modelo.*\n",
    "\n",
    "Al final en un proyecto, se invierte aproximadamene un **80%** del tiempo en preprocesar, analizar y entender los datos y la necesidad de negocio, y solo un **20%** en la aplicación de algún algoritmos, su entrenamiento y valiación."
   ]
  },
  {
   "cell_type": "markdown",
   "metadata": {},
   "source": [
    "## Otros datos en scikit-learn\n",
    "\n",
    "La biblioteca cuenta con otros datos, para conocer toda la lista se puede explorar el objecto `datasets` , además ahora se cuenta con muchos repositorios de datos que pueden ser usados para probar algún algoritmo."
   ]
  },
  {
   "cell_type": "markdown",
   "metadata": {},
   "source": [
    "## Nota:\n",
    "\n",
    "El pre-procesamiento, la exploración y creación de modelos anteriormente realizados son solo breves ejemplos, aún no estamos profundizando en detalles de ćomo \"entrenar\" y \"generalizar\" algún modelo. "
   ]
  },
  {
   "cell_type": "markdown",
   "metadata": {},
   "source": [
    " ## Ejercicios\n",
    " \n",
    " Los ejercicios son pricipalmente para conocer los datos que se tienen en el módulo scikit-learn."
   ]
  },
  {
   "cell_type": "code",
   "execution_count": null,
   "metadata": {
    "collapsed": true
   },
   "outputs": [],
   "source": [
    "#Ejercicio 1.- Ejecuta el siguiente código para ver la lista de bases con las que cuenta Scikit-learn\n",
    "from sklearn import datasets\n",
    "[datos for datos in dir(datasets) if callable(getattr(datasets, datos))]"
   ]
  },
  {
   "cell_type": "code",
   "execution_count": 39,
   "metadata": {},
   "outputs": [],
   "source": [
    "# Ejercicio 2.- Carga los datos load_boston\n",
    "# El código es igual al mostrado en el primer ejemplo\n",
    "\n"
   ]
  },
  {
   "cell_type": "code",
   "execution_count": null,
   "metadata": {},
   "outputs": [],
   "source": [
    "#Ejercicio 3.- Revisa la descripción de los datos\n",
    "print(Data.DESCR)\n"
   ]
  },
  {
   "cell_type": "code",
   "execution_count": null,
   "metadata": {},
   "outputs": [],
   "source": [
    "#Ejercicio 4.- ¿Qué tipo de variable es target?\n",
    "Data.target[:10]"
   ]
  },
  {
   "cell_type": "code",
   "execution_count": null,
   "metadata": {},
   "outputs": [],
   "source": [
    "# Ejercicio 5.- Visualiza el histograma del target\n",
    "\n",
    "n, bins, patches=plt.hist(Data.target,histtype='bar')\n",
    "plt.title(\"Histograma de la variable dependiente\")\n",
    "plt.ylabel(\"Frecuencias\")\n",
    "plt.xlabel(\"Rango de Valores\")"
   ]
  }
 ],
 "metadata": {
  "kernelspec": {
   "display_name": "Python 3",
   "language": "python",
   "name": "python3"
  },
  "language_info": {
   "codemirror_mode": {
    "name": "ipython",
    "version": 3
   },
   "file_extension": ".py",
   "mimetype": "text/x-python",
   "name": "python",
   "nbconvert_exporter": "python",
   "pygments_lexer": "ipython3",
   "version": "3.6.0"
  }
 },
 "nbformat": 4,
 "nbformat_minor": 2
}
