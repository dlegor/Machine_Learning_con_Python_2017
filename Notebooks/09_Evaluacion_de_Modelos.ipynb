{
 "cells": [
  {
   "cell_type": "markdown",
   "metadata": {},
   "source": [
    "# Evaluación de Modelos"
   ]
  },
  {
   "cell_type": "markdown",
   "metadata": {},
   "source": [
    "En los 4 ejemplos previos sobre  [clasificación](05_Aprendizaje_Supervizado_Clasificacion.ipynb) y [regresión](06_Aprendizaje_Supervizado_Regresion.ipynb) se usaron algunas funciones para estimar Regresiones Logísticas y Random Foreet para Clasificación, Regresiones Lineales y Random Forest para Regresión, también en los ejercicios se pide usar la máquina de soporte vectorial o árboles de decisión, etc.\n",
    "\n",
    "En cada uno de los ejemplos se estimó el modelo y se midió su calidad  usando alguna función. En los casos de clasificación se midió la *precisión* y para los modelos regresivos *el error cuadrado medio*.\n",
    "\n",
    "La evaluación del modelo es fundamental, ya que más de un modelo  puede ser viable, pero entre los criterios para elegir nuestro modelo es la calidad obtenida en la \"métrica\" que se define. La métrica en esta caso es la medida estadística que se elige para calificar al modelo.\n"
   ]
  },
  {
   "cell_type": "markdown",
   "metadata": {},
   "source": [
    "## Para Clasificación"
   ]
  },
  {
   "cell_type": "markdown",
   "metadata": {},
   "source": [
    "En los ejemplos solo se uso la función `accuracy_score` para medir la calidad de las clasificaciones. Al estimar el model y predecir los resultados, se compara el resultado contra los datos de prueba. Denotando la salida del modelo como **$ \\hat{y}$** y lo valores reales **$y$**.\n",
    "\n",
    "\n",
    "### Precisión\n",
    "\n",
    "La precisión se define como:$$ Precision=\\frac{\\#Correctos}{\\#Total\\quad de\\quad casos}$$. El máximo valor que se puede obtener es 1, por lo tanto cuanto más proximo a 1 sea el resultado podemos considerar como mejor modelo de clasificación.\n",
    "\n",
    "### Matriz de Confusión\n",
    " \n",
    "Las filas son las clases de los valores reales $y$ y las columnas las de $\\hat{y}$.\n",
    "\n",
    "|  | Categoría 1|Categoría 2|\n",
    "|--|------------|-----------|\n",
    "|Categoría 1|Verdadoros Positivos(VP)|Falsos Negativos(FN)|\n",
    "|Categoría 2|Falsos Positivos(FP)| Verdaderos Negativos(VN)|\n",
    "\n",
    "La precisión y la matriz de confusión están relacionadas, los elementos de la diagonal de la matriz de confusión corresponden a todas las clasificaciones correctas. La presicion se puede escribir como: $$Precision=\\frac{VP+VN}{VP+FN+FP+VN}$$\n",
    "\n",
    "Mediante la revisión de estos dos se puede calificar a los modelos, pero en algunos casos es importante distinguir entre las prediciones de la Categoría 1 vs Categoría 2. Ejemplo, si la categoría 1 = Normal y Categoría 2 = Fraude, resulta importante poder calificar con cuidado las predicciones por categoría.\n",
    "\n",
    "Una medida sensible para la correcta clasificación por clase se puede usar AUC o la curva de [ROC](https://es.wikipedia.org/wiki/Curva_ROC). En otro casos resulta conveniente medir la calidad por medio de la función [log loss](https://en.wikipedia.org/wiki/Loss_functions_for_classification) o función de perdida.\n",
    "\n",
    "La elección de la métrica depende del problema que se aborda con la clasificación.\n"
   ]
  },
  {
   "cell_type": "markdown",
   "metadata": {},
   "source": [
    "## Ejemplo de Clasificación"
   ]
  },
  {
   "cell_type": "code",
   "execution_count": 5,
   "metadata": {},
   "outputs": [
    {
     "data": {
      "text/plain": [
       "array([0, 1])"
      ]
     },
     "execution_count": 5,
     "metadata": {},
     "output_type": "execute_result"
    }
   ],
   "source": [
    "from sklearn.datasets import load_breast_cancer\n",
    "import numpy as np\n",
    "Cancer=load_breast_cancer()\n",
    "np.unique(Cancer.target)"
   ]
  },
  {
   "cell_type": "markdown",
   "metadata": {},
   "source": [
    "Construimos un vector del mismo tamaño que el *target* pero con solo valores 1 y medimos la precisión, la matriz de confusión y el área bajo la curva."
   ]
  },
  {
   "cell_type": "code",
   "execution_count": 6,
   "metadata": {
    "collapsed": true
   },
   "outputs": [],
   "source": [
    "from sklearn.metrics import accuracy_score,roc_auc_score,confusion_matrix\n",
    "y=np.ones(len(Cancer.target))"
   ]
  },
  {
   "cell_type": "code",
   "execution_count": 7,
   "metadata": {},
   "outputs": [
    {
     "name": "stdout",
     "output_type": "stream",
     "text": [
      "Precisión\n"
     ]
    },
    {
     "data": {
      "text/plain": [
       "0.62741652021089633"
      ]
     },
     "execution_count": 7,
     "metadata": {},
     "output_type": "execute_result"
    }
   ],
   "source": [
    "print(\"Precisión\")\n",
    "accuracy_score(Cancer.target,y)"
   ]
  },
  {
   "cell_type": "code",
   "execution_count": 8,
   "metadata": {},
   "outputs": [
    {
     "name": "stdout",
     "output_type": "stream",
     "text": [
      "Matriz de Confusión\n"
     ]
    },
    {
     "data": {
      "text/plain": [
       "array([[  0, 212],\n",
       "       [  0, 357]])"
      ]
     },
     "execution_count": 8,
     "metadata": {},
     "output_type": "execute_result"
    }
   ],
   "source": [
    "#Matriz de Confusión\n",
    "print(\"Matriz de Confusión\")\n",
    "confusion_matrix(Cancer.target,y)"
   ]
  },
  {
   "cell_type": "code",
   "execution_count": 9,
   "metadata": {},
   "outputs": [
    {
     "name": "stdout",
     "output_type": "stream",
     "text": [
      "Área bajo la curva\n"
     ]
    },
    {
     "data": {
      "text/plain": [
       "0.5"
      ]
     },
     "execution_count": 9,
     "metadata": {},
     "output_type": "execute_result"
    }
   ],
   "source": [
    "#Estimación de la curva bajo la curva\n",
    "print(\"Área bajo la curva\")\n",
    "roc_auc_score(Cancer.target,y)"
   ]
  },
  {
   "cell_type": "markdown",
   "metadata": {},
   "source": [
    "El valor máximo que se puede tener en la curva de ROC o el valor de AUC es de 1, por lo tanto cuanto más proximo a 1 sea el valor del modelo se considera mejor."
   ]
  },
  {
   "cell_type": "markdown",
   "metadata": {},
   "source": [
    "# Para regresión"
   ]
  },
  {
   "cell_type": "markdown",
   "metadata": {},
   "source": [
    "En los ejemplos solo se uso la función `mean_squared_error` para medir la calidad de las regresiones. Al estimar el model y predecir los resultados, se compara el resultado contra los datos de prueba. Denotando la salida del modelo como **$ \\hat{y}$** y lo valores reales **$y$**."
   ]
  },
  {
   "cell_type": "markdown",
   "metadata": {},
   "source": [
    "## Error Cuadrado Medio\n",
    "\n",
    "El valor se obtiene de la sigueinte expresión:$$MSE=\\frac{1}{n}\\sum\\limits_{i=1}^n(y_i-\\hat{y_i})^2$$\n",
    "\n",
    "### Raiz Cuadra de Error Cuadrado Media\n",
    "\n",
    "El valor es igual a :$$RMSE=\\sqrt MSE$$\n",
    "\n",
    "Lo que se busca es que cualquier de las dos métricas sea pequeña, lo cual implica que los valores predichos con respectos a los reales son muy cercanos. El problema con estas dos medidas  es que son sensibles a contar con un solo valor muy grande entre la diferencia $y_i-\\hat{y_i}$, por lo cual es importante considerar aquellos valores que son \"anómalos\" o extraños.\n",
    "\n",
    "### Otro estadístico usual\n",
    "\n",
    "En los problemas de regresión suele usarse para valorar la calidad del modelo el estadístico descriptivo $R^2$. Éste es una buena guía pero no es un estadístico fundamental, debido a varios problemas que se pueden presentar. Para aclarar como se define primero se considera $\\tilde{y}$ como la média de los valores $y$. Entonces $$\\sum (y_i-\\tilde{y})^2=\\sum(y_i-\\hat{y})^2+\\sum(\\hat{y_i}-\\tilde{y})^2$$ el primer termino es la variación total de la variable $y$ y suele denotarse como TSS. El segundo término se llama variación residual(ESS) y el último es la variación explicada(RSS). \n",
    "\n",
    "Entonces la definición es:$$R^2=\\frac{RSS}{TSS}$$\n",
    "\n",
    "En resumen $R^2$ informa el procentaje de varianza explicada por el modelo, siempre toma valores entre 0 y 1. "
   ]
  },
  {
   "cell_type": "markdown",
   "metadata": {},
   "source": [
    "## Ejemplo de Regresión"
   ]
  },
  {
   "cell_type": "code",
   "execution_count": 12,
   "metadata": {},
   "outputs": [
    {
     "name": "stdout",
     "output_type": "stream",
     "text": [
      "La media del Target es:\n"
     ]
    },
    {
     "data": {
      "text/plain": [
       "152.13348416289594"
      ]
     },
     "execution_count": 12,
     "metadata": {},
     "output_type": "execute_result"
    }
   ],
   "source": [
    "from sklearn.datasets import load_diabetes\n",
    "import numpy as np\n",
    "\n",
    "Diabetes=load_diabetes()\n",
    "print(\"La media del Target es:\")\n",
    "Diabetes.target.mean()"
   ]
  },
  {
   "cell_type": "markdown",
   "metadata": {},
   "source": [
    "Se genera una variable distribución uniformé para simular nuestra $\\hat{y}$."
   ]
  },
  {
   "cell_type": "code",
   "execution_count": 54,
   "metadata": {
    "collapsed": true
   },
   "outputs": [],
   "source": [
    "# Se crea una variable con información del mismo target\n",
    "y_salida=Diabetes.target+np.random.normal(20,5,size=len(Diabetes.target))"
   ]
  },
  {
   "cell_type": "markdown",
   "metadata": {},
   "source": [
    "Se estima los estadisticos de $y$ vs $\\hat{y}$."
   ]
  },
  {
   "cell_type": "code",
   "execution_count": 55,
   "metadata": {},
   "outputs": [
    {
     "name": "stdout",
     "output_type": "stream",
     "text": [
      "RMSE: 426.049540\n",
      " R Cuadrada: 0.928152\n"
     ]
    }
   ],
   "source": [
    "from sklearn.metrics import mean_squared_error,r2_score\n",
    "\n",
    "print(\"RMSE: %f\"%mean_squared_error(Diabetes.target,y_salida))\n",
    "print(\" R Cuadrada: %f\" %r2_score(Diabetes.target,y_salida))"
   ]
  }
 ],
 "metadata": {
  "kernelspec": {
   "display_name": "Python 3",
   "language": "python",
   "name": "python3"
  },
  "language_info": {
   "codemirror_mode": {
    "name": "ipython",
    "version": 3
   },
   "file_extension": ".py",
   "mimetype": "text/x-python",
   "name": "python",
   "nbconvert_exporter": "python",
   "pygments_lexer": "ipython3",
   "version": "3.6.0"
  }
 },
 "nbformat": 4,
 "nbformat_minor": 2
}
