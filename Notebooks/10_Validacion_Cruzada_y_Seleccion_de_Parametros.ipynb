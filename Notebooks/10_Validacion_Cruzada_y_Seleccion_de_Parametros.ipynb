{
 "cells": [
  {
   "cell_type": "markdown",
   "metadata": {},
   "source": [
    "# Validación Cruzada y Elección de Parámetros"
   ]
  },
  {
   "cell_type": "markdown",
   "metadata": {},
   "source": [
    "En los ejemplos realizados para clasificación y regresión se dividió el conjunto de datos en dos submuestras. Con los datos de entrenamiento se estimó el modelo y se revisó la calidad del modelo con los datos de prueba.\n",
    "\n",
    "&nbsp;\n",
    "<img src=\"./Imagenes/Imagen_Total_Datos.jpg\" height=\"700\" width=\"800\">\n",
    "&nbsp;"
   ]
  },
  {
   "cell_type": "markdown",
   "metadata": {},
   "source": [
    "Se mencionó en un inicio que el objetivo de Aprendizaje Automático es que sea capaz de elegirse el modelo que funcione adecuadamente ante nuevos datos, ese es el objetivo de llegar a la **generalización**.\n",
    "\n",
    "Para tratar valorar el rendimiento del modelo ante nuevos datos, se usa la Validación Cruzada. Existen varias técnicas al respecto, pero la idea en general es la misma: dividir los datos en subconjunto de entrenamiento y prueba.\n",
    "\n",
    "## K-Fold\n",
    "\n",
    "Uno de los métodos más usados es dividir los datos en *k* submuestras, usar esa división para estimar y probar el modelo y al final dar la media la medida de rendimiento.\n",
    "\n",
    "La división de los datos se realiza como se aprecia en la siguiente imagen:\n",
    "\n",
    "![Imagen_De k-fold](Imagenes/Imagen_CV.png)\n",
    "Si observamos los datos originales son divididos en *k* submuestras, posteriormente se va tomando cada uno como la submuestra de prueba y el resto como submuestra de entrenamiento. En cada etapa al validar con el correspondiente submuestra de prueba se estima algúna métrica que se consideró, por ejemplo puede ser la *precisión* para la clasificación o *MSE* para la regresión. \n",
    "\n",
    "Si nuestro caso fuera que aplicamos la validación cruzada para un modelo de regresión el resultado al final para calificar el rendimiento del modelo sería estimado como:$$CV=\\frac{1}{k}\\sum\\limits_{i=1}^kMSE_i$$"
   ]
  },
  {
   "cell_type": "markdown",
   "metadata": {},
   "source": [
    "## Ejemplo\n",
    "\n",
    "Tomando los datos del ejemplo del modelo regresivo, aplicamos *Validación Cruzada* al modelo *Random Forest* para conocer rendimiento ante posibles nuevos datos.\n",
    "\n",
    "Replicamos el código."
   ]
  },
  {
   "cell_type": "code",
   "execution_count": 6,
   "metadata": {},
   "outputs": [
    {
     "name": "stdout",
     "output_type": "stream",
     "text": [
      "Regresión Lineal\n",
      "El error cuadrado medio del modelo fue 5557.565493\n",
      "La R Cuadrada es de: 0.465756\n"
     ]
    }
   ],
   "source": [
    "#Entono para exploració y tratamiento de los datos\n",
    "%matplotlib inline\n",
    "\n",
    "import pandas as pd\n",
    "import numpy as np\n",
    "import matplotlib.pyplot as plt\n",
    "import seaborn as sns\n",
    "\n",
    "#configuracion Matplotlib\n",
    "plt.rcParams[\"figure.figsize\"] = (12, 5)\n",
    "plt.rcParams['figure.titlesize'] = 'large'\n",
    "plt.rcParams['font.size'] = 12\n",
    "plt.rcParams['axes.titlesize']=15\n",
    "\n",
    "Datos=pd.read_csv(\"DataSets/energydata_complete.csv\")\n",
    "\n",
    "#Creación de datos para el modelo de clasificación\n",
    "\n",
    "Datos_input=Datos.iloc[:,2:29].copy()\n",
    "Y_output=Datos.iloc[:,1:2].copy()\n",
    "\n",
    "#Se divide la muestra entre el conjunto de entrenamiento y prueba\n",
    "from sklearn.model_selection import train_test_split\n",
    "\n",
    "#Definimos tomar 80/20 train/test\n",
    "X_train, X_test, y_train, y_test = train_test_split(Datos_input, Y_output,\n",
    "                                                    test_size=0.20,\n",
    "                                                    random_state=123,)\n",
    "\n",
    "from sklearn.metrics import mean_squared_error\n",
    "from sklearn.ensemble import RandomForestRegressor\n",
    "\n",
    "#Se define el modelo\n",
    "Modelo_RF=RandomForestRegressor()\n",
    "Modelo_RF.fit(X_train,y_train.values.ravel())\n",
    "Pred_RF=Modelo_RF.predict(X_test)\n",
    "\n",
    "print(\"Regresión Lineal\")\n",
    "print(\"El error cuadrado medio del modelo fue %f\"%(mean_squared_error(y_test,Pred_RF)))\n",
    "\n",
    "print(\"La R Cuadrada es de: %f\"% Modelo_RF.score(X_test,y_test))"
   ]
  },
  {
   "cell_type": "markdown",
   "metadata": {},
   "source": [
    "Aplicamos ahora Validación Cruzada dividiendo los datos en 5 submuestras. Se usa la función `cross_val_score` e indicamos la división con el parámetro `cv`."
   ]
  },
  {
   "cell_type": "code",
   "execution_count": null,
   "metadata": {
    "collapsed": true
   },
   "outputs": [],
   "source": [
    "from sklearn.model_selection import cross_val_score\n",
    "scores = cross_val_score(Modelo_RF, Datos_input, Y_output.values.ravel(),cv=5,scoring='neg_mean_squared_error')"
   ]
  },
  {
   "cell_type": "markdown",
   "metadata": {},
   "source": [
    "Calculando la media de los valores estimados de $MSE$ se tiene:"
   ]
  },
  {
   "cell_type": "code",
   "execution_count": 13,
   "metadata": {},
   "outputs": [
    {
     "name": "stdout",
     "output_type": "stream",
     "text": [
      "-24091.0407398\n"
     ]
    }
   ],
   "source": [
    "print(np.mean(scores))"
   ]
  },
  {
   "cell_type": "code",
   "execution_count": 16,
   "metadata": {},
   "outputs": [
    {
     "data": {
      "text/plain": [
       "<matplotlib.text.Text at 0x7fe5d9b9ff60>"
      ]
     },
     "execution_count": 16,
     "metadata": {},
     "output_type": "execute_result"
    },
    {
     "data": {
      "image/png": "[encoded data removed]",
      "text/plain": [
       "<matplotlib.figure.Figure at 0x7fe5d9b180b8>"
      ]
     },
     "metadata": {},
     "output_type": "display_data"
    }
   ],
   "source": [
    "plt.plot(range(1,6),-1*scores)\n",
    "plt.title(\"Comportamiento de MSE en la Validación Cruzada\")\n",
    "plt.ylabel(\"MSE\")\n",
    "plt.xlabel(\"Numero de División\")"
   ]
  },
  {
   "cell_type": "markdown",
   "metadata": {},
   "source": [
    "Se aprecia que el Error Cuadrado Médio (MSE) varía bruscamente entre las submuestras, además de que resulta en general muy alto. Esto indicaría que el modelo no sería un buen candidato.\n",
    "\n",
    "**¿Solo k=5?** No hay una regla, pero suele recomendarse considerar k entre 5 y 10.\n",
    "\n",
    "Si se cuenta con conjunto de modelos posibles, se aplica a cada uno la validación cruzada. Con ello uno puede tomar orientación para elegir el modelo que resulta más robusto ante nuevos datos."
   ]
  },
  {
   "cell_type": "markdown",
   "metadata": {},
   "source": [
    "## Elección de Parámetros\n",
    "\n",
    "En los modelos que han mostrado para la clasificación y para la regresión, en ningún momento se ha revisado algún parámetro. Cada familia de modelos tiene algún conjunto de parámetros que resultan clave para tener buenas predicciónes.\n",
    "\n",
    "Ejemplo, en la regresión lineal que se expresa como la ecuación: $$\\hat{y}=a_1X_1+a_2X_2+a_3X_3+b$$\n",
    "los parámetros ${a_1,a_2,a_3,b}$ son estimados. Esto depende del método que se use para estimar estos parámetros, en el modelo tradicional de la regresión se hace uso de mínimos cuadrados ordinarios, pero como tal no es el único método para elegir los valores de los parámetros.\n",
    "\n",
    "Todos los algoritmos o modelos que se desarrollan en Aprendizaje Automático contienen algún conjunto de parámetros, la elección de sus valores se hace usando los datos de entrenamiento y se prueba si son buenos parámetros al evaluar la calidad de modelo contra los datos de prueba.\n",
    "\n",
    "### Relación entre Validación Cruzada y Elección de Parámetros\n",
    "\n",
    "Arriba se comentó que la intención de la Validación Cruzada era evaluar la calidad de modelo, pero al hacer eso también se esta explorando o revisando el posible [**sobre ajuste**]() que se haga con algún modelo, ya que se desea que sea capaz de responder bien ante datos que no se le dieron para entrenamiento.\n",
    "\n",
    "Por otro lado, la elección de los parámetros busca elegir el mejor conjunto de valores de modo tal que el modelo tenga el mejor rendimiento posible. Esto incluye evitar elegir valores de los parámetros que impliquen sobre ajuste de los datos de entrenamiento. Una estrategia es dividir los datos en Datos de Entrenamiento, Datos de Validación y Datos de Prueba. Otro modo de dividir los datos, es usar el tipo de división que se hace en la validación cruzada y hacer la busqueda de los mejores parámetros en los k-submuestras.\n",
    "\n",
    "La primera estrategía visualmente sería así:\n",
    "![CV_1](Imagenes/CV_1.jpg)\n",
    "\n",
    "La búsqueda de parámetros se realizaría en el conjunto de validación, donde tambien se realiza la validación cruzada. La segunda estrategia usual es dividir del siguiente modo:\n",
    "![CV_2](Imagenes/Imagen_CV_GS.jpg)"
   ]
  },
  {
   "cell_type": "markdown",
   "metadata": {},
   "source": [
    "La validación cruzada es una de las piezas más importantes igual que la elección de parámetros adecuados, ya que eso permite que el modelo pueda pasar a la etapa de la **generalización**. Las dos estrategias comentadas para buscar los parámetros implican costos computacionales diferentes, si se cuenta con una conjunto de datos bastante grande es posible que sea suficiente la primera estrategia y se evita el costo computacional de usar la segunda estrategia."
   ]
  },
  {
   "cell_type": "markdown",
   "metadata": {},
   "source": [
    "Las dos estrategias planteadas no son las únicas, siempre se tiene la libertan de definir el modo de definir la validación cruzada. Lo único que es importante cuidar al definir una estrategia de validación, es no mezclar los datos con la submuestra de prueba. "
   ]
  },
  {
   "cell_type": "markdown",
   "metadata": {},
   "source": [
    "### Técnicas de Búsqueda de Parámetros.\n",
    "\n",
    "En general se usan dos técnicas en la búsqueda de parámetros, la búsqueda de los mejores parámetros desde un conjunto definido o una búsqueda aleatoria sobre una lista de parámetros. Lo nombre de estas dos técnicas son: *GridSearch y RandomizedSearch*.\n",
    "\n",
    "\n",
    "### Combinando Todo\n",
    "\n",
    "Con lo anterior se trató de explicar la relación entre la validación cruzada y la selección de parámetros, el último ingrediente es la medida o métrica  o scoring contra el cual se evalua el modelo. Al final siempre se evalua el modelo con los datos de prueba y se toma algún estadístico (MSE, $R^2$,Precisión, AUC) para calificar el rendimiento del modelo. Estonces se tien las 3 piezas juntas:\n",
    "\n",
    "* Elegir una Estrategia de Validación Cruzada.\n",
    "* Definir una estrategia de selección de parámetros.\n",
    "* Elegir una métrica o estadístico con el cual calificar el rendimiento del modelo.\n",
    "\n",
    "\n",
    "\n",
    "Se realizan un ejemplo para mostrar la combinación de las 3 piezas. Como modelo base se considera un Random Forest, así que los parámetros que se busca elegir es el número de árboles (n_estimators) y el número máximo de variables (max_features) a considerar para cada árbol. De momento no se explica cuál es el significado preciso de estos parámetros para los Random Forest, se explican más adelante. "
   ]
  },
  {
   "cell_type": "markdown",
   "metadata": {},
   "source": [
    "### Ejemplos\n",
    "\n",
    "Se toman los datos `load_breast_cancer`. "
   ]
  },
  {
   "cell_type": "code",
   "execution_count": 25,
   "metadata": {
    "collapsed": true
   },
   "outputs": [],
   "source": [
    "#Se cargan los datos\n",
    "from sklearn.datasets import load_breast_cancer\n",
    "Cancer=load_breast_cancer()"
   ]
  },
  {
   "cell_type": "code",
   "execution_count": 47,
   "metadata": {},
   "outputs": [
    {
     "data": {
      "text/plain": [
       "(569, 30)"
      ]
     },
     "execution_count": 47,
     "metadata": {},
     "output_type": "execute_result"
    }
   ],
   "source": [
    "Cancer.data.shape"
   ]
  },
  {
   "cell_type": "code",
   "execution_count": null,
   "metadata": {
    "collapsed": true
   },
   "outputs": [],
   "source": []
  },
  {
   "cell_type": "code",
   "execution_count": 42,
   "metadata": {},
   "outputs": [
    {
     "name": "stdout",
     "output_type": "stream",
     "text": [
      "La precisión de Modelo sin elegir parámetros es:\n",
      "0.965034965035\n",
      "\n",
      "El área bajo la curva es de:\n",
      "0.957954545455\n"
     ]
    }
   ],
   "source": [
    "#Se dividen los datos entre una muestra para entrenamiento y otra para prueba\n",
    "from sklearn.model_selection import train_test_split\n",
    "from sklearn.ensemble import RandomForestClassifier\n",
    "from sklearn.metrics import accuracy_score, roc_auc_score # Se toman dos métricas para comparar los resultados.\n",
    "\n",
    "#Se dividen los datos\n",
    "X_train, X_test, y_train, y_test = train_test_split(Cancer.data, Cancer.target, random_state=1)\n",
    "\n",
    "#Se define el modelo con los parámetros por default\n",
    "RF=RandomForestClassifier()\n",
    "#Se estima el RandomForest\n",
    "RF.fit(X_train,y_train)\n",
    "#Se realiza estima la salida desde los datos de prueba\n",
    "Pred_RF=RF.predict(X_test)\n",
    "\n",
    "#El rendimiento del modelo\n",
    "print(\"La precisión de Modelo sin elegir parámetros es:\")\n",
    "print(accuracy_score(y_test,Pred_RF))\n",
    "print()\n",
    "print(\"El área bajo la curva es de:\")\n",
    "print(roc_auc_score(y_test,Pred_RF))"
   ]
  },
  {
   "cell_type": "markdown",
   "metadata": {},
   "source": [
    "Primero vemos cual es el rendimiento "
   ]
  },
  {
   "cell_type": "code",
   "execution_count": 43,
   "metadata": {},
   "outputs": [
    {
     "name": "stdout",
     "output_type": "stream",
     "text": [
      "El resultado de la validación cruzada es: 0.945687\n"
     ]
    }
   ],
   "source": [
    "from sklearn.model_selection import cross_val_score\n",
    "\n",
    "CV_RF= cross_val_score(RF, Cancer.data, Cancer.target, cv=5,scoring='accuracy')\n",
    "\n",
    "print(\"El resultado de la validación cruzada es: %f\"%CV_RF.mean())\n"
   ]
  },
  {
   "cell_type": "markdown",
   "metadata": {},
   "source": [
    "Se hace el mismo ejercicio pero camiando la métrica, en lugar de la precisión (accuracy) se usa el área bajo la curva (roc_auc)."
   ]
  },
  {
   "cell_type": "code",
   "execution_count": 44,
   "metadata": {},
   "outputs": [
    {
     "name": "stdout",
     "output_type": "stream",
     "text": [
      "El resultado de la validación cruzada es: 0.985061\n"
     ]
    }
   ],
   "source": [
    "CV_RF= cross_val_score(RF, Cancer.data, Cancer.target, cv=5,scoring='roc_auc')\n",
    "\n",
    "print(\"El resultado de la validación cruzada es: %f\"%CV_RF.mean())\n"
   ]
  },
  {
   "cell_type": "markdown",
   "metadata": {},
   "source": [
    "Muestra que la calidad del modelo con los parámetros por default da buen rendimeinto. Los parámetros por defecto son:"
   ]
  },
  {
   "cell_type": "code",
   "execution_count": 46,
   "metadata": {},
   "outputs": [
    {
     "data": {
      "text/plain": [
       "('auto', 10)"
      ]
     },
     "execution_count": 46,
     "metadata": {},
     "output_type": "execute_result"
    }
   ],
   "source": [
    "RF.max_features,RF.n_estimators"
   ]
  },
  {
   "cell_type": "markdown",
   "metadata": {},
   "source": [
    "En el caso de número de variable o característica a considerar es :  $\\sqrt(num\\quad de\\quad variables)$ en este caso se tienen 30 variables. Por lo cual se consideró apróximadamente *max_features=5*.\n",
    "\n",
    "Ahora aplicamos la primera estrategia de validación cruzada y selección de parámetros, considerando como estadístico *auc*(roc_auc)."
   ]
  },
  {
   "cell_type": "code",
   "execution_count": 51,
   "metadata": {},
   "outputs": [
    {
     "name": "stdout",
     "output_type": "stream",
     "text": [
      "La precisión del modelo es: 0.965035\n",
      "El área bajo la curva es: 0.957955\n",
      "Los mejore parámetros fueron:\n"
     ]
    },
    {
     "data": {
      "text/plain": [
       "{'max_features': 5, 'n_estimators': 50}"
      ]
     },
     "execution_count": 51,
     "metadata": {},
     "output_type": "execute_result"
    }
   ],
   "source": [
    "from sklearn.model_selection import  ShuffleSplit,GridSearchCV\n",
    "from sklearn.ensemble import RandomForestClassifier\n",
    "\n",
    "param_grid = {'n_estimators': [20,50,100,300], 'max_features': [3,4,5,6,7,10]}\n",
    "\n",
    "single_split_cv = ShuffleSplit(n_splits=1)\n",
    "grid = GridSearchCV(RF, param_grid=param_grid, cv=single_split_cv,scoring='roc_auc')\n",
    "\n",
    "\n",
    "grid.fit(X_train, y_train)\n",
    "Pred_RF_1=grid.predict(X_test)\n",
    "print(\"La precisión del modelo es: %f\"% accuracy_score(y_test,Pred_RF_1))\n",
    "print(\"El área bajo la curva es: %f\" %roc_auc_score(y_test,Pred_RF_1))\n",
    "print(\"Los mejore parámetros fueron:\")\n",
    "grid.best_params_"
   ]
  },
  {
   "cell_type": "markdown",
   "metadata": {},
   "source": [
    "Usando la segunda estrategia de validación cruzada  con k=5, se tiene:"
   ]
  },
  {
   "cell_type": "code",
   "execution_count": 53,
   "metadata": {},
   "outputs": [
    {
     "name": "stdout",
     "output_type": "stream",
     "text": [
      "La precisión del modelo es: 0.958042\n",
      "El área bajo la curva es: 0.952273\n",
      "Los mejore parámetros fueron:\n"
     ]
    },
    {
     "data": {
      "text/plain": [
       "{'max_features': 5, 'n_estimators': 50}"
      ]
     },
     "execution_count": 53,
     "metadata": {},
     "output_type": "execute_result"
    }
   ],
   "source": [
    "grid_2 = GridSearchCV(RF, param_grid=param_grid, cv=5,scoring='roc_auc')\n",
    "\n",
    "\n",
    "grid_2.fit(X_train, y_train)\n",
    "Pred_RF_2=grid_2.predict(X_test)\n",
    "print(\"La precisión del modelo es: %f\"% accuracy_score(y_test,Pred_RF_2))\n",
    "print(\"El área bajo la curva es: %f\" %roc_auc_score(y_test,Pred_RF_2))\n",
    "print(\"Los mejore parámetros fueron:\")\n",
    "grid_2.best_params_"
   ]
  },
  {
   "cell_type": "markdown",
   "metadata": {},
   "source": [
    "Se aprecia que los mejores parámetros en este caso fue el mismo con las dos estrategias de validación cruzada. Hay dos observaciones, la primera es que se observa que la precisión y el valor de auc es diferentes en las dos estimaciones. Esto se debe a que el modelo es estadístico, por lo cual se tienen ligeras variaciones pero no son drasticas.\n",
    "\n",
    "*¿Qué pasa si consideramos en lugar de 'roc_auc', solo la precisión?*"
   ]
  },
  {
   "cell_type": "code",
   "execution_count": 54,
   "metadata": {},
   "outputs": [
    {
     "name": "stdout",
     "output_type": "stream",
     "text": [
      "La precisión del modelo es: 0.951049\n",
      "El área bajo la curva es: 0.946591\n",
      "Los mejore parámetros fueron:\n"
     ]
    },
    {
     "data": {
      "text/plain": [
       "{'max_features': 10, 'n_estimators': 50}"
      ]
     },
     "execution_count": 54,
     "metadata": {},
     "output_type": "execute_result"
    }
   ],
   "source": [
    "grid_3 = GridSearchCV(RF, param_grid=param_grid, cv=single_split_cv,scoring='accuracy')\n",
    "\n",
    "grid_3.fit(X_train, y_train)\n",
    "Pred_RF_3=grid_3.predict(X_test)\n",
    "print(\"La precisión del modelo es: %f\"% accuracy_score(y_test,Pred_RF_3))\n",
    "print(\"El área bajo la curva es: %f\" %roc_auc_score(y_test,Pred_RF_3))\n",
    "print(\"Los mejore parámetros fueron:\")\n",
    "grid_3.best_params_"
   ]
  },
  {
   "cell_type": "code",
   "execution_count": 55,
   "metadata": {},
   "outputs": [
    {
     "name": "stdout",
     "output_type": "stream",
     "text": [
      "La precisión del modelo es: 0.951049\n",
      "El área bajo la curva es: 0.943182\n",
      "Los mejore parámetros fueron:\n"
     ]
    },
    {
     "data": {
      "text/plain": [
       "{'max_features': 4, 'n_estimators': 20}"
      ]
     },
     "execution_count": 55,
     "metadata": {},
     "output_type": "execute_result"
    }
   ],
   "source": [
    "grid_4 = GridSearchCV(RF, param_grid=param_grid, cv=5,scoring='accuracy')\n",
    "\n",
    "grid_4.fit(X_train, y_train)\n",
    "Pred_RF_4=grid_4.predict(X_test)\n",
    "print(\"La precisión del modelo es: %f\"% accuracy_score(y_test,Pred_RF_4))\n",
    "print(\"El área bajo la curva es: %f\" %roc_auc_score(y_test,Pred_RF_4))\n",
    "print(\"Los mejore parámetros fueron:\")\n",
    "grid_4.best_params_"
   ]
  },
  {
   "cell_type": "markdown",
   "metadata": {},
   "source": [
    "Se aprecia que los resultados son diferentes, la precisión es practicamente la misma para los dos métodos pero difieren en el valor de AUC. \n",
    "\n",
    "Ahora se tiene 3 posibles candidatos como modelos de Random Forest:\n",
    "\n",
    "*  max_features= 4, n_estimators= 20\n",
    "*  max_features=10, n_estimators= 50\n",
    "*  max_features= 5, n_estimators= 50\n",
    "\n",
    "Entonces el problema no solo es elegir entre el tipo de modelo, sino también sobre el tipo de estadístico contra el cual elegimos. En este caso por el tipo de datos se busca distinguir entre las pacientes que tienen Cáncer de Mama. La precisión es importante, pero como se mencionó en antes, la precisión no es sensible a qué tan mal se clasificaron las dos clases. Para este caso importa cuidar los falsos positivos y falsos negativos. Es decir, importa cuidar el diagnóstico de aquellos que pueden ser avisadas que tienen cancer de mama pero es un error y aquellos que son clasificados como sanas, pero que si tienen la enfermedad.\n",
    "\n",
    "Resumen, es mejor elegir en este caso la métrica auc, porque es sensible a los falsos positivos y falsos negativos.\n",
    "\n",
    "Así el modelo elegido es el último:\n",
    "\n",
    "* Random Forest con max_features= 5, n_estimators= 50"
   ]
  }
 ],
 "metadata": {
  "kernelspec": {
   "display_name": "Python 3",
   "language": "python",
   "name": "python3"
  },
  "language_info": {
   "codemirror_mode": {
    "name": "ipython",
    "version": 3
   },
   "file_extension": ".py",
   "mimetype": "text/x-python",
   "name": "python",
   "nbconvert_exporter": "python",
   "pygments_lexer": "ipython3",
   "version": "3.6.0"
  }
 },
 "nbformat": 4,
 "nbformat_minor": 2
}
